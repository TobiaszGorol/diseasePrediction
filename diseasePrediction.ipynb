{
 "cells": [
  {
   "cell_type": "code",
   "execution_count": 1,
   "id": "28045d5d",
   "metadata": {},
   "outputs": [],
   "source": [
    "import pandas as pd\n",
    "import numpy as np"
   ]
  },
  {
   "cell_type": "code",
   "execution_count": 2,
   "id": "6a0e31a7",
   "metadata": {},
   "outputs": [],
   "source": [
    "df = pd.read_csv('good_doctor_data.csv')"
   ]
  },
  {
   "cell_type": "code",
   "execution_count": 3,
   "id": "c2ebafce",
   "metadata": {},
   "outputs": [
    {
     "data": {
      "text/html": [
       "<div>\n",
       "<style scoped>\n",
       "    .dataframe tbody tr th:only-of-type {\n",
       "        vertical-align: middle;\n",
       "    }\n",
       "\n",
       "    .dataframe tbody tr th {\n",
       "        vertical-align: top;\n",
       "    }\n",
       "\n",
       "    .dataframe thead th {\n",
       "        text-align: right;\n",
       "    }\n",
       "</style>\n",
       "<table border=\"1\" class=\"dataframe\">\n",
       "  <thead>\n",
       "    <tr style=\"text-align: right;\">\n",
       "      <th></th>\n",
       "      <th>Unique_ID</th>\n",
       "      <th># Pregnancies</th>\n",
       "      <th>Blood Chemestry~I</th>\n",
       "      <th>Blood Chemisty~II</th>\n",
       "      <th>Blood Chemisty~III</th>\n",
       "      <th>Blood Pressure</th>\n",
       "      <th>Skin Thickness</th>\n",
       "      <th>BMI</th>\n",
       "      <th>Genetic Predisposition Factor</th>\n",
       "      <th>Age</th>\n",
       "      <th>Air Qual'ty Index</th>\n",
       "      <th>$tate</th>\n",
       "      <th>Outcome</th>\n",
       "    </tr>\n",
       "  </thead>\n",
       "  <tbody>\n",
       "    <tr>\n",
       "      <th>0</th>\n",
       "      <td>5642118.0</td>\n",
       "      <td>1.0</td>\n",
       "      <td>0.0</td>\n",
       "      <td>23.0</td>\n",
       "      <td>10.0</td>\n",
       "      <td>74.0</td>\n",
       "      <td>20.0</td>\n",
       "      <td>27.7</td>\n",
       "      <td>0.299</td>\n",
       "      <td>21.0</td>\n",
       "      <td>38.0</td>\n",
       "      <td>CA</td>\n",
       "      <td>0.0</td>\n",
       "    </tr>\n",
       "    <tr>\n",
       "      <th>1</th>\n",
       "      <td>NaN</td>\n",
       "      <td>NaN</td>\n",
       "      <td>NaN</td>\n",
       "      <td>NaN</td>\n",
       "      <td>NaN</td>\n",
       "      <td>NaN</td>\n",
       "      <td>NaN</td>\n",
       "      <td>NaN</td>\n",
       "      <td>NaN</td>\n",
       "      <td>NaN</td>\n",
       "      <td>NaN</td>\n",
       "      <td>NaN</td>\n",
       "      <td>NaN</td>\n",
       "    </tr>\n",
       "    <tr>\n",
       "      <th>2</th>\n",
       "      <td>5642119.0</td>\n",
       "      <td>1.0</td>\n",
       "      <td>0.0</td>\n",
       "      <td>0.0</td>\n",
       "      <td>61.0</td>\n",
       "      <td>68.0</td>\n",
       "      <td>35.0</td>\n",
       "      <td>32.0</td>\n",
       "      <td>0.389</td>\n",
       "      <td>22.0</td>\n",
       "      <td>10.0</td>\n",
       "      <td>CA</td>\n",
       "      <td>0.0</td>\n",
       "    </tr>\n",
       "    <tr>\n",
       "      <th>3</th>\n",
       "      <td>NaN</td>\n",
       "      <td>NaN</td>\n",
       "      <td>NaN</td>\n",
       "      <td>NaN</td>\n",
       "      <td>NaN</td>\n",
       "      <td>NaN</td>\n",
       "      <td>NaN</td>\n",
       "      <td>NaN</td>\n",
       "      <td>NaN</td>\n",
       "      <td>NaN</td>\n",
       "      <td>NaN</td>\n",
       "      <td>NaN</td>\n",
       "      <td>NaN</td>\n",
       "    </tr>\n",
       "    <tr>\n",
       "      <th>4</th>\n",
       "      <td>5642120.0</td>\n",
       "      <td>1.0</td>\n",
       "      <td>0.0</td>\n",
       "      <td>0.0</td>\n",
       "      <td>172.0</td>\n",
       "      <td>48.0</td>\n",
       "      <td>20.0</td>\n",
       "      <td>24.7</td>\n",
       "      <td>0.140</td>\n",
       "      <td>22.0</td>\n",
       "      <td>77.0</td>\n",
       "      <td>CA</td>\n",
       "      <td>0.0</td>\n",
       "    </tr>\n",
       "  </tbody>\n",
       "</table>\n",
       "</div>"
      ],
      "text/plain": [
       "   Unique_ID  # Pregnancies  Blood Chemestry~I  Blood Chemisty~II  \\\n",
       "0  5642118.0            1.0                0.0               23.0   \n",
       "1        NaN            NaN                NaN                NaN   \n",
       "2  5642119.0            1.0                0.0                0.0   \n",
       "3        NaN            NaN                NaN                NaN   \n",
       "4  5642120.0            1.0                0.0                0.0   \n",
       "\n",
       "   Blood Chemisty~III  Blood Pressure  Skin Thickness   BMI  \\\n",
       "0                10.0            74.0            20.0  27.7   \n",
       "1                 NaN             NaN             NaN   NaN   \n",
       "2                61.0            68.0            35.0  32.0   \n",
       "3                 NaN             NaN             NaN   NaN   \n",
       "4               172.0            48.0            20.0  24.7   \n",
       "\n",
       "   Genetic Predisposition Factor   Age  Air Qual'ty Index $tate  Outcome  \n",
       "0                          0.299  21.0               38.0    CA      0.0  \n",
       "1                            NaN   NaN                NaN   NaN      NaN  \n",
       "2                          0.389  22.0               10.0    CA      0.0  \n",
       "3                            NaN   NaN                NaN   NaN      NaN  \n",
       "4                          0.140  22.0               77.0    CA      0.0  "
      ]
     },
     "execution_count": 3,
     "metadata": {},
     "output_type": "execute_result"
    }
   ],
   "source": [
    "df.head()"
   ]
  },
  {
   "cell_type": "code",
   "execution_count": 4,
   "id": "8acfb36b",
   "metadata": {},
   "outputs": [
    {
     "name": "stdout",
     "output_type": "stream",
     "text": [
      "<class 'pandas.core.frame.DataFrame'>\n",
      "RangeIndex: 7679 entries, 0 to 7678\n",
      "Data columns (total 13 columns):\n",
      " #   Column                         Non-Null Count  Dtype  \n",
      "---  ------                         --------------  -----  \n",
      " 0   Unique_ID                      3840 non-null   float64\n",
      " 1   # Pregnancies                  3840 non-null   float64\n",
      " 2   Blood Chemestry~I              3815 non-null   float64\n",
      " 3   Blood Chemisty~II              3830 non-null   float64\n",
      " 4   Blood Chemisty~III             3840 non-null   float64\n",
      " 5   Blood Pressure                 3840 non-null   float64\n",
      " 6   Skin Thickness                 3835 non-null   float64\n",
      " 7   BMI                            3840 non-null   float64\n",
      " 8   Genetic Predisposition Factor  3840 non-null   float64\n",
      " 9   Age                            3840 non-null   float64\n",
      " 10  Air Qual'ty Index              3810 non-null   float64\n",
      " 11  $tate                          3840 non-null   object \n",
      " 12  Outcome                        3840 non-null   float64\n",
      "dtypes: float64(12), object(1)\n",
      "memory usage: 780.0+ KB\n"
     ]
    }
   ],
   "source": [
    "df.info()"
   ]
  },
  {
   "cell_type": "code",
   "execution_count": 5,
   "id": "b6685e34",
   "metadata": {},
   "outputs": [
    {
     "data": {
      "text/plain": [
       "Index(['Unique_ID', '# Pregnancies', 'Blood Chemestry~I', 'Blood Chemisty~II',\n",
       "       'Blood Chemisty~III', 'Blood Pressure', 'Skin Thickness', 'BMI',\n",
       "       'Genetic Predisposition Factor', 'Age', 'Air Qual'ty Index', '$tate',\n",
       "       'Outcome'],\n",
       "      dtype='object')"
      ]
     },
     "execution_count": 5,
     "metadata": {},
     "output_type": "execute_result"
    }
   ],
   "source": [
    "df.columns"
   ]
  },
  {
   "cell_type": "markdown",
   "id": "94e565ae",
   "metadata": {},
   "source": [
    "Here we can see that column names have spelling mistakes and we can have a problem in the next steps, so let's change them."
   ]
  },
  {
   "cell_type": "code",
   "execution_count": 6,
   "id": "11def294",
   "metadata": {},
   "outputs": [],
   "source": [
    "df.rename(columns = {'# Pregnancies': 'Pregnancies', \n",
    "                     'Blood Chemestry~I': 'BloodChemistryI', \n",
    "                     'Blood Chemisty~II': 'BloodChemistryII',\n",
    "                     'Blood Chemisty~III': 'BloodChemistryIII', \n",
    "                     'Blood Pressure': 'BloodPressure', \n",
    "                     'Skin Thickness': 'SkinThickness', \n",
    "                     'BMI': 'BMI',\n",
    "                     'Genetic Predisposition Factor': 'GeneticPredispositionFactor', \n",
    "                     'Age': 'Age',\n",
    "                     \"Air Qual'ty Index\": 'AirQualityIndex', \n",
    "                     '$tate': 'State',\n",
    "                     'Outcome': 'Outcome'}, inplace = True)"
   ]
  },
  {
   "cell_type": "code",
   "execution_count": 7,
   "id": "5564047a",
   "metadata": {},
   "outputs": [],
   "source": [
    "import missingno\n",
    "import matplotlib.pyplot as plt\n",
    "import seaborn as sns"
   ]
  },
  {
   "cell_type": "markdown",
   "id": "fcee05e9",
   "metadata": {},
   "source": [
    "This graph shows missing values and as we can see there is a lot of them and we have even empty rows."
   ]
  },
  {
   "cell_type": "code",
   "execution_count": 8,
   "id": "ab6ef033",
   "metadata": {},
   "outputs": [
    {
     "data": {
      "text/plain": [
       "<AxesSubplot: >"
      ]
     },
     "execution_count": 8,
     "metadata": {},
     "output_type": "execute_result"
    },
    {
     "data": {
      "image/png": "[encoded data removed]",
      "text/plain": [
       "<Figure size 3000x1000 with 2 Axes>"
      ]
     },
     "metadata": {},
     "output_type": "display_data"
    }
   ],
   "source": [
    "missingno.matrix(df, figsize = (30,10))"
   ]
  },
  {
   "cell_type": "code",
   "execution_count": 9,
   "id": "26b868fa",
   "metadata": {
    "scrolled": true
   },
   "outputs": [
    {
     "data": {
      "text/html": [
       "<div>\n",
       "<style scoped>\n",
       "    .dataframe tbody tr th:only-of-type {\n",
       "        vertical-align: middle;\n",
       "    }\n",
       "\n",
       "    .dataframe tbody tr th {\n",
       "        vertical-align: top;\n",
       "    }\n",
       "\n",
       "    .dataframe thead th {\n",
       "        text-align: right;\n",
       "    }\n",
       "</style>\n",
       "<table border=\"1\" class=\"dataframe\">\n",
       "  <thead>\n",
       "    <tr style=\"text-align: right;\">\n",
       "      <th></th>\n",
       "      <th>Unique_ID</th>\n",
       "      <th>Pregnancies</th>\n",
       "      <th>BloodChemistryI</th>\n",
       "      <th>BloodChemistryII</th>\n",
       "      <th>BloodChemistryIII</th>\n",
       "      <th>BloodPressure</th>\n",
       "      <th>SkinThickness</th>\n",
       "      <th>BMI</th>\n",
       "      <th>GeneticPredispositionFactor</th>\n",
       "      <th>Age</th>\n",
       "      <th>AirQualityIndex</th>\n",
       "      <th>State</th>\n",
       "      <th>Outcome</th>\n",
       "    </tr>\n",
       "  </thead>\n",
       "  <tbody>\n",
       "    <tr>\n",
       "      <th>1</th>\n",
       "      <td>NaN</td>\n",
       "      <td>NaN</td>\n",
       "      <td>NaN</td>\n",
       "      <td>NaN</td>\n",
       "      <td>NaN</td>\n",
       "      <td>NaN</td>\n",
       "      <td>NaN</td>\n",
       "      <td>NaN</td>\n",
       "      <td>NaN</td>\n",
       "      <td>NaN</td>\n",
       "      <td>NaN</td>\n",
       "      <td>NaN</td>\n",
       "      <td>NaN</td>\n",
       "    </tr>\n",
       "    <tr>\n",
       "      <th>3</th>\n",
       "      <td>NaN</td>\n",
       "      <td>NaN</td>\n",
       "      <td>NaN</td>\n",
       "      <td>NaN</td>\n",
       "      <td>NaN</td>\n",
       "      <td>NaN</td>\n",
       "      <td>NaN</td>\n",
       "      <td>NaN</td>\n",
       "      <td>NaN</td>\n",
       "      <td>NaN</td>\n",
       "      <td>NaN</td>\n",
       "      <td>NaN</td>\n",
       "      <td>NaN</td>\n",
       "    </tr>\n",
       "    <tr>\n",
       "      <th>5</th>\n",
       "      <td>NaN</td>\n",
       "      <td>NaN</td>\n",
       "      <td>NaN</td>\n",
       "      <td>NaN</td>\n",
       "      <td>NaN</td>\n",
       "      <td>NaN</td>\n",
       "      <td>NaN</td>\n",
       "      <td>NaN</td>\n",
       "      <td>NaN</td>\n",
       "      <td>NaN</td>\n",
       "      <td>NaN</td>\n",
       "      <td>NaN</td>\n",
       "      <td>NaN</td>\n",
       "    </tr>\n",
       "    <tr>\n",
       "      <th>7</th>\n",
       "      <td>NaN</td>\n",
       "      <td>NaN</td>\n",
       "      <td>NaN</td>\n",
       "      <td>NaN</td>\n",
       "      <td>NaN</td>\n",
       "      <td>NaN</td>\n",
       "      <td>NaN</td>\n",
       "      <td>NaN</td>\n",
       "      <td>NaN</td>\n",
       "      <td>NaN</td>\n",
       "      <td>NaN</td>\n",
       "      <td>NaN</td>\n",
       "      <td>NaN</td>\n",
       "    </tr>\n",
       "    <tr>\n",
       "      <th>9</th>\n",
       "      <td>NaN</td>\n",
       "      <td>NaN</td>\n",
       "      <td>NaN</td>\n",
       "      <td>NaN</td>\n",
       "      <td>NaN</td>\n",
       "      <td>NaN</td>\n",
       "      <td>NaN</td>\n",
       "      <td>NaN</td>\n",
       "      <td>NaN</td>\n",
       "      <td>NaN</td>\n",
       "      <td>NaN</td>\n",
       "      <td>NaN</td>\n",
       "      <td>NaN</td>\n",
       "    </tr>\n",
       "    <tr>\n",
       "      <th>...</th>\n",
       "      <td>...</td>\n",
       "      <td>...</td>\n",
       "      <td>...</td>\n",
       "      <td>...</td>\n",
       "      <td>...</td>\n",
       "      <td>...</td>\n",
       "      <td>...</td>\n",
       "      <td>...</td>\n",
       "      <td>...</td>\n",
       "      <td>...</td>\n",
       "      <td>...</td>\n",
       "      <td>...</td>\n",
       "      <td>...</td>\n",
       "    </tr>\n",
       "    <tr>\n",
       "      <th>7669</th>\n",
       "      <td>NaN</td>\n",
       "      <td>NaN</td>\n",
       "      <td>NaN</td>\n",
       "      <td>NaN</td>\n",
       "      <td>NaN</td>\n",
       "      <td>NaN</td>\n",
       "      <td>NaN</td>\n",
       "      <td>NaN</td>\n",
       "      <td>NaN</td>\n",
       "      <td>NaN</td>\n",
       "      <td>NaN</td>\n",
       "      <td>NaN</td>\n",
       "      <td>NaN</td>\n",
       "    </tr>\n",
       "    <tr>\n",
       "      <th>7671</th>\n",
       "      <td>NaN</td>\n",
       "      <td>NaN</td>\n",
       "      <td>NaN</td>\n",
       "      <td>NaN</td>\n",
       "      <td>NaN</td>\n",
       "      <td>NaN</td>\n",
       "      <td>NaN</td>\n",
       "      <td>NaN</td>\n",
       "      <td>NaN</td>\n",
       "      <td>NaN</td>\n",
       "      <td>NaN</td>\n",
       "      <td>NaN</td>\n",
       "      <td>NaN</td>\n",
       "    </tr>\n",
       "    <tr>\n",
       "      <th>7673</th>\n",
       "      <td>NaN</td>\n",
       "      <td>NaN</td>\n",
       "      <td>NaN</td>\n",
       "      <td>NaN</td>\n",
       "      <td>NaN</td>\n",
       "      <td>NaN</td>\n",
       "      <td>NaN</td>\n",
       "      <td>NaN</td>\n",
       "      <td>NaN</td>\n",
       "      <td>NaN</td>\n",
       "      <td>NaN</td>\n",
       "      <td>NaN</td>\n",
       "      <td>NaN</td>\n",
       "    </tr>\n",
       "    <tr>\n",
       "      <th>7675</th>\n",
       "      <td>NaN</td>\n",
       "      <td>NaN</td>\n",
       "      <td>NaN</td>\n",
       "      <td>NaN</td>\n",
       "      <td>NaN</td>\n",
       "      <td>NaN</td>\n",
       "      <td>NaN</td>\n",
       "      <td>NaN</td>\n",
       "      <td>NaN</td>\n",
       "      <td>NaN</td>\n",
       "      <td>NaN</td>\n",
       "      <td>NaN</td>\n",
       "      <td>NaN</td>\n",
       "    </tr>\n",
       "    <tr>\n",
       "      <th>7677</th>\n",
       "      <td>NaN</td>\n",
       "      <td>NaN</td>\n",
       "      <td>NaN</td>\n",
       "      <td>NaN</td>\n",
       "      <td>NaN</td>\n",
       "      <td>NaN</td>\n",
       "      <td>NaN</td>\n",
       "      <td>NaN</td>\n",
       "      <td>NaN</td>\n",
       "      <td>NaN</td>\n",
       "      <td>NaN</td>\n",
       "      <td>NaN</td>\n",
       "      <td>NaN</td>\n",
       "    </tr>\n",
       "  </tbody>\n",
       "</table>\n",
       "<p>3839 rows × 13 columns</p>\n",
       "</div>"
      ],
      "text/plain": [
       "      Unique_ID  Pregnancies  BloodChemistryI  BloodChemistryII  \\\n",
       "1           NaN          NaN              NaN               NaN   \n",
       "3           NaN          NaN              NaN               NaN   \n",
       "5           NaN          NaN              NaN               NaN   \n",
       "7           NaN          NaN              NaN               NaN   \n",
       "9           NaN          NaN              NaN               NaN   \n",
       "...         ...          ...              ...               ...   \n",
       "7669        NaN          NaN              NaN               NaN   \n",
       "7671        NaN          NaN              NaN               NaN   \n",
       "7673        NaN          NaN              NaN               NaN   \n",
       "7675        NaN          NaN              NaN               NaN   \n",
       "7677        NaN          NaN              NaN               NaN   \n",
       "\n",
       "      BloodChemistryIII  BloodPressure  SkinThickness  BMI  \\\n",
       "1                   NaN            NaN            NaN  NaN   \n",
       "3                   NaN            NaN            NaN  NaN   \n",
       "5                   NaN            NaN            NaN  NaN   \n",
       "7                   NaN            NaN            NaN  NaN   \n",
       "9                   NaN            NaN            NaN  NaN   \n",
       "...                 ...            ...            ...  ...   \n",
       "7669                NaN            NaN            NaN  NaN   \n",
       "7671                NaN            NaN            NaN  NaN   \n",
       "7673                NaN            NaN            NaN  NaN   \n",
       "7675                NaN            NaN            NaN  NaN   \n",
       "7677                NaN            NaN            NaN  NaN   \n",
       "\n",
       "      GeneticPredispositionFactor  Age  AirQualityIndex State  Outcome  \n",
       "1                             NaN  NaN              NaN   NaN      NaN  \n",
       "3                             NaN  NaN              NaN   NaN      NaN  \n",
       "5                             NaN  NaN              NaN   NaN      NaN  \n",
       "7                             NaN  NaN              NaN   NaN      NaN  \n",
       "9                             NaN  NaN              NaN   NaN      NaN  \n",
       "...                           ...  ...              ...   ...      ...  \n",
       "7669                          NaN  NaN              NaN   NaN      NaN  \n",
       "7671                          NaN  NaN              NaN   NaN      NaN  \n",
       "7673                          NaN  NaN              NaN   NaN      NaN  \n",
       "7675                          NaN  NaN              NaN   NaN      NaN  \n",
       "7677                          NaN  NaN              NaN   NaN      NaN  \n",
       "\n",
       "[3839 rows x 13 columns]"
      ]
     },
     "execution_count": 9,
     "metadata": {},
     "output_type": "execute_result"
    }
   ],
   "source": [
    "df[df.isna().all(axis = 1)]"
   ]
  },
  {
   "cell_type": "markdown",
   "id": "4a431d2e",
   "metadata": {},
   "source": [
    "These rows are useless so we can delete them."
   ]
  },
  {
   "cell_type": "code",
   "execution_count": 10,
   "id": "bf00ef70",
   "metadata": {},
   "outputs": [],
   "source": [
    "df.drop(df[df.isna().all(axis = 1)].index, inplace = True)"
   ]
  },
  {
   "cell_type": "code",
   "execution_count": 11,
   "id": "0208d911",
   "metadata": {},
   "outputs": [
    {
     "data": {
      "text/html": [
       "<div>\n",
       "<style scoped>\n",
       "    .dataframe tbody tr th:only-of-type {\n",
       "        vertical-align: middle;\n",
       "    }\n",
       "\n",
       "    .dataframe tbody tr th {\n",
       "        vertical-align: top;\n",
       "    }\n",
       "\n",
       "    .dataframe thead th {\n",
       "        text-align: right;\n",
       "    }\n",
       "</style>\n",
       "<table border=\"1\" class=\"dataframe\">\n",
       "  <thead>\n",
       "    <tr style=\"text-align: right;\">\n",
       "      <th></th>\n",
       "      <th>Unique_ID</th>\n",
       "      <th>Pregnancies</th>\n",
       "      <th>BloodChemistryI</th>\n",
       "      <th>BloodChemistryII</th>\n",
       "      <th>BloodChemistryIII</th>\n",
       "      <th>BloodPressure</th>\n",
       "      <th>SkinThickness</th>\n",
       "      <th>BMI</th>\n",
       "      <th>GeneticPredispositionFactor</th>\n",
       "      <th>Age</th>\n",
       "      <th>AirQualityIndex</th>\n",
       "      <th>State</th>\n",
       "      <th>Outcome</th>\n",
       "    </tr>\n",
       "  </thead>\n",
       "  <tbody>\n",
       "    <tr>\n",
       "      <th>0</th>\n",
       "      <td>5642118.0</td>\n",
       "      <td>1.0</td>\n",
       "      <td>0.0</td>\n",
       "      <td>23.0</td>\n",
       "      <td>10.0</td>\n",
       "      <td>74.0</td>\n",
       "      <td>20.0</td>\n",
       "      <td>27.7</td>\n",
       "      <td>0.299</td>\n",
       "      <td>21.0</td>\n",
       "      <td>38.0</td>\n",
       "      <td>CA</td>\n",
       "      <td>0.0</td>\n",
       "    </tr>\n",
       "    <tr>\n",
       "      <th>2</th>\n",
       "      <td>5642119.0</td>\n",
       "      <td>1.0</td>\n",
       "      <td>0.0</td>\n",
       "      <td>0.0</td>\n",
       "      <td>61.0</td>\n",
       "      <td>68.0</td>\n",
       "      <td>35.0</td>\n",
       "      <td>32.0</td>\n",
       "      <td>0.389</td>\n",
       "      <td>22.0</td>\n",
       "      <td>10.0</td>\n",
       "      <td>CA</td>\n",
       "      <td>0.0</td>\n",
       "    </tr>\n",
       "    <tr>\n",
       "      <th>4</th>\n",
       "      <td>5642120.0</td>\n",
       "      <td>1.0</td>\n",
       "      <td>0.0</td>\n",
       "      <td>0.0</td>\n",
       "      <td>172.0</td>\n",
       "      <td>48.0</td>\n",
       "      <td>20.0</td>\n",
       "      <td>24.7</td>\n",
       "      <td>0.140</td>\n",
       "      <td>22.0</td>\n",
       "      <td>77.0</td>\n",
       "      <td>CA</td>\n",
       "      <td>0.0</td>\n",
       "    </tr>\n",
       "    <tr>\n",
       "      <th>6</th>\n",
       "      <td>5642121.0</td>\n",
       "      <td>5.0</td>\n",
       "      <td>44.0</td>\n",
       "      <td>0.0</td>\n",
       "      <td>207.0</td>\n",
       "      <td>62.0</td>\n",
       "      <td>0.0</td>\n",
       "      <td>25.0</td>\n",
       "      <td>0.587</td>\n",
       "      <td>36.0</td>\n",
       "      <td>40.0</td>\n",
       "      <td>OR</td>\n",
       "      <td>0.0</td>\n",
       "    </tr>\n",
       "    <tr>\n",
       "      <th>8</th>\n",
       "      <td>5642122.0</td>\n",
       "      <td>2.0</td>\n",
       "      <td>56.0</td>\n",
       "      <td>45.0</td>\n",
       "      <td>150.0</td>\n",
       "      <td>56.0</td>\n",
       "      <td>28.0</td>\n",
       "      <td>24.2</td>\n",
       "      <td>0.332</td>\n",
       "      <td>22.0</td>\n",
       "      <td>70.0</td>\n",
       "      <td>CT</td>\n",
       "      <td>0.0</td>\n",
       "    </tr>\n",
       "    <tr>\n",
       "      <th>...</th>\n",
       "      <td>...</td>\n",
       "      <td>...</td>\n",
       "      <td>...</td>\n",
       "      <td>...</td>\n",
       "      <td>...</td>\n",
       "      <td>...</td>\n",
       "      <td>...</td>\n",
       "      <td>...</td>\n",
       "      <td>...</td>\n",
       "      <td>...</td>\n",
       "      <td>...</td>\n",
       "      <td>...</td>\n",
       "      <td>...</td>\n",
       "    </tr>\n",
       "    <tr>\n",
       "      <th>7670</th>\n",
       "      <td>5642881.0</td>\n",
       "      <td>2.0</td>\n",
       "      <td>197.0</td>\n",
       "      <td>543.0</td>\n",
       "      <td>101.0</td>\n",
       "      <td>70.0</td>\n",
       "      <td>45.0</td>\n",
       "      <td>30.5</td>\n",
       "      <td>0.158</td>\n",
       "      <td>53.0</td>\n",
       "      <td>53.0</td>\n",
       "      <td>PA</td>\n",
       "      <td>1.0</td>\n",
       "    </tr>\n",
       "    <tr>\n",
       "      <th>7672</th>\n",
       "      <td>5642882.0</td>\n",
       "      <td>2.0</td>\n",
       "      <td>197.0</td>\n",
       "      <td>0.0</td>\n",
       "      <td>2.0</td>\n",
       "      <td>70.0</td>\n",
       "      <td>99.0</td>\n",
       "      <td>34.7</td>\n",
       "      <td>0.575</td>\n",
       "      <td>62.0</td>\n",
       "      <td>0.0</td>\n",
       "      <td>TX</td>\n",
       "      <td>1.0</td>\n",
       "    </tr>\n",
       "    <tr>\n",
       "      <th>7674</th>\n",
       "      <td>5642883.0</td>\n",
       "      <td>0.0</td>\n",
       "      <td>198.0</td>\n",
       "      <td>274.0</td>\n",
       "      <td>304.0</td>\n",
       "      <td>66.0</td>\n",
       "      <td>32.0</td>\n",
       "      <td>41.3</td>\n",
       "      <td>0.502</td>\n",
       "      <td>28.0</td>\n",
       "      <td>52.0</td>\n",
       "      <td>NJ</td>\n",
       "      <td>1.0</td>\n",
       "    </tr>\n",
       "    <tr>\n",
       "      <th>7676</th>\n",
       "      <td>5642884.0</td>\n",
       "      <td>1.0</td>\n",
       "      <td>199.0</td>\n",
       "      <td>0.0</td>\n",
       "      <td>58.0</td>\n",
       "      <td>76.0</td>\n",
       "      <td>43.0</td>\n",
       "      <td>42.9</td>\n",
       "      <td>1.394</td>\n",
       "      <td>22.0</td>\n",
       "      <td>21.0</td>\n",
       "      <td>CA</td>\n",
       "      <td>1.0</td>\n",
       "    </tr>\n",
       "    <tr>\n",
       "      <th>7678</th>\n",
       "      <td>5642885.0</td>\n",
       "      <td>11.0</td>\n",
       "      <td>NaN</td>\n",
       "      <td>NaN</td>\n",
       "      <td>61.0</td>\n",
       "      <td>74.0</td>\n",
       "      <td>26.0</td>\n",
       "      <td>36.1</td>\n",
       "      <td>0.557</td>\n",
       "      <td>50.0</td>\n",
       "      <td>83.0</td>\n",
       "      <td>LA</td>\n",
       "      <td>1.0</td>\n",
       "    </tr>\n",
       "  </tbody>\n",
       "</table>\n",
       "<p>3840 rows × 13 columns</p>\n",
       "</div>"
      ],
      "text/plain": [
       "      Unique_ID  Pregnancies  BloodChemistryI  BloodChemistryII  \\\n",
       "0     5642118.0          1.0              0.0              23.0   \n",
       "2     5642119.0          1.0              0.0               0.0   \n",
       "4     5642120.0          1.0              0.0               0.0   \n",
       "6     5642121.0          5.0             44.0               0.0   \n",
       "8     5642122.0          2.0             56.0              45.0   \n",
       "...         ...          ...              ...               ...   \n",
       "7670  5642881.0          2.0            197.0             543.0   \n",
       "7672  5642882.0          2.0            197.0               0.0   \n",
       "7674  5642883.0          0.0            198.0             274.0   \n",
       "7676  5642884.0          1.0            199.0               0.0   \n",
       "7678  5642885.0         11.0              NaN               NaN   \n",
       "\n",
       "      BloodChemistryIII  BloodPressure  SkinThickness   BMI  \\\n",
       "0                  10.0           74.0           20.0  27.7   \n",
       "2                  61.0           68.0           35.0  32.0   \n",
       "4                 172.0           48.0           20.0  24.7   \n",
       "6                 207.0           62.0            0.0  25.0   \n",
       "8                 150.0           56.0           28.0  24.2   \n",
       "...                 ...            ...            ...   ...   \n",
       "7670              101.0           70.0           45.0  30.5   \n",
       "7672                2.0           70.0           99.0  34.7   \n",
       "7674              304.0           66.0           32.0  41.3   \n",
       "7676               58.0           76.0           43.0  42.9   \n",
       "7678               61.0           74.0           26.0  36.1   \n",
       "\n",
       "      GeneticPredispositionFactor   Age  AirQualityIndex State  Outcome  \n",
       "0                           0.299  21.0             38.0    CA      0.0  \n",
       "2                           0.389  22.0             10.0    CA      0.0  \n",
       "4                           0.140  22.0             77.0    CA      0.0  \n",
       "6                           0.587  36.0             40.0    OR      0.0  \n",
       "8                           0.332  22.0             70.0    CT      0.0  \n",
       "...                           ...   ...              ...   ...      ...  \n",
       "7670                        0.158  53.0             53.0    PA      1.0  \n",
       "7672                        0.575  62.0              0.0    TX      1.0  \n",
       "7674                        0.502  28.0             52.0    NJ      1.0  \n",
       "7676                        1.394  22.0             21.0    CA      1.0  \n",
       "7678                        0.557  50.0             83.0    LA      1.0  \n",
       "\n",
       "[3840 rows x 13 columns]"
      ]
     },
     "execution_count": 11,
     "metadata": {},
     "output_type": "execute_result"
    }
   ],
   "source": [
    "df"
   ]
  },
  {
   "cell_type": "code",
   "execution_count": 12,
   "id": "694ad7e7",
   "metadata": {},
   "outputs": [],
   "source": [
    "df.drop_duplicates(inplace = True)"
   ]
  },
  {
   "cell_type": "code",
   "execution_count": null,
   "id": "2f80931b",
   "metadata": {},
   "outputs": [],
   "source": []
  },
  {
   "cell_type": "code",
   "execution_count": null,
   "id": "9f1bb7d0",
   "metadata": {},
   "outputs": [],
   "source": []
  },
  {
   "cell_type": "code",
   "execution_count": null,
   "id": "d619fac9",
   "metadata": {},
   "outputs": [],
   "source": []
  },
  {
   "cell_type": "markdown",
   "id": "aba659a0",
   "metadata": {},
   "source": [
    "'Unique_ID' column is also usless because every value is diffrent, so delete that column."
   ]
  },
  {
   "cell_type": "code",
   "execution_count": 13,
   "id": "a7006406",
   "metadata": {},
   "outputs": [],
   "source": [
    "df.drop(['Unique_ID'], axis = 1, inplace = True)"
   ]
  },
  {
   "cell_type": "markdown",
   "id": "76fe235e",
   "metadata": {},
   "source": [
    "Let's use missing matrix again"
   ]
  },
  {
   "cell_type": "code",
   "execution_count": 14,
   "id": "2e4343d2",
   "metadata": {},
   "outputs": [
    {
     "data": {
      "text/plain": [
       "<AxesSubplot: >"
      ]
     },
     "execution_count": 14,
     "metadata": {},
     "output_type": "execute_result"
    },
    {
     "data": {
      "image/png": "[encoded data removed]",
      "text/plain": [
       "<Figure size 3000x1000 with 2 Axes>"
      ]
     },
     "metadata": {},
     "output_type": "display_data"
    }
   ],
   "source": [
    "missingno.matrix(df, figsize = (30,10))"
   ]
  },
  {
   "cell_type": "markdown",
   "id": "232d4a10",
   "metadata": {},
   "source": [
    "As we can see there is still missing values but not that many."
   ]
  },
  {
   "cell_type": "markdown",
   "id": "0b27241f",
   "metadata": {},
   "source": [
    "By runing 'df.isnull().sum()' command we will known exacly how many NaNs left in each column."
   ]
  },
  {
   "cell_type": "code",
   "execution_count": 15,
   "id": "3d4f63a2",
   "metadata": {},
   "outputs": [
    {
     "data": {
      "text/plain": [
       "Pregnancies                     0\n",
       "BloodChemistryI                25\n",
       "BloodChemistryII               10\n",
       "BloodChemistryIII               0\n",
       "BloodPressure                   0\n",
       "SkinThickness                   5\n",
       "BMI                             0\n",
       "GeneticPredispositionFactor     0\n",
       "Age                             0\n",
       "AirQualityIndex                30\n",
       "State                           0\n",
       "Outcome                         0\n",
       "dtype: int64"
      ]
     },
     "execution_count": 15,
     "metadata": {},
     "output_type": "execute_result"
    }
   ],
   "source": [
    "df.isnull().sum()"
   ]
  },
  {
   "cell_type": "code",
   "execution_count": 16,
   "id": "27460111",
   "metadata": {},
   "outputs": [
    {
     "data": {
      "text/plain": [
       "55"
      ]
     },
     "execution_count": 16,
     "metadata": {},
     "output_type": "execute_result"
    }
   ],
   "source": [
    "len(df[df.isna().any(axis = 1)])"
   ]
  },
  {
   "cell_type": "code",
   "execution_count": 17,
   "id": "80b42467",
   "metadata": {},
   "outputs": [
    {
     "data": {
      "text/html": [
       "<div>\n",
       "<style scoped>\n",
       "    .dataframe tbody tr th:only-of-type {\n",
       "        vertical-align: middle;\n",
       "    }\n",
       "\n",
       "    .dataframe tbody tr th {\n",
       "        vertical-align: top;\n",
       "    }\n",
       "\n",
       "    .dataframe thead th {\n",
       "        text-align: right;\n",
       "    }\n",
       "</style>\n",
       "<table border=\"1\" class=\"dataframe\">\n",
       "  <thead>\n",
       "    <tr style=\"text-align: right;\">\n",
       "      <th></th>\n",
       "      <th>Pregnancies</th>\n",
       "      <th>BloodChemistryI</th>\n",
       "      <th>BloodChemistryII</th>\n",
       "      <th>BloodChemistryIII</th>\n",
       "      <th>BloodPressure</th>\n",
       "      <th>SkinThickness</th>\n",
       "      <th>BMI</th>\n",
       "      <th>GeneticPredispositionFactor</th>\n",
       "      <th>Age</th>\n",
       "      <th>AirQualityIndex</th>\n",
       "      <th>State</th>\n",
       "      <th>Outcome</th>\n",
       "    </tr>\n",
       "  </thead>\n",
       "  <tbody>\n",
       "    <tr>\n",
       "      <th>418</th>\n",
       "      <td>1.0</td>\n",
       "      <td>103.0</td>\n",
       "      <td>82.0</td>\n",
       "      <td>265.0</td>\n",
       "      <td>80.0</td>\n",
       "      <td>11.0</td>\n",
       "      <td>19.4</td>\n",
       "      <td>0.491</td>\n",
       "      <td>22.0</td>\n",
       "      <td>NaN</td>\n",
       "      <td>CA</td>\n",
       "      <td>0.0</td>\n",
       "    </tr>\n",
       "    <tr>\n",
       "      <th>588</th>\n",
       "      <td>0.0</td>\n",
       "      <td>113.0</td>\n",
       "      <td>0.0</td>\n",
       "      <td>134.0</td>\n",
       "      <td>80.0</td>\n",
       "      <td>NaN</td>\n",
       "      <td>31.0</td>\n",
       "      <td>0.874</td>\n",
       "      <td>21.0</td>\n",
       "      <td>21.0</td>\n",
       "      <td>AL</td>\n",
       "      <td>0.0</td>\n",
       "    </tr>\n",
       "    <tr>\n",
       "      <th>648</th>\n",
       "      <td>0.0</td>\n",
       "      <td>117.0</td>\n",
       "      <td>0.0</td>\n",
       "      <td>238.0</td>\n",
       "      <td>0.0</td>\n",
       "      <td>0.0</td>\n",
       "      <td>33.8</td>\n",
       "      <td>0.932</td>\n",
       "      <td>44.0</td>\n",
       "      <td>NaN</td>\n",
       "      <td>WA</td>\n",
       "      <td>0.0</td>\n",
       "    </tr>\n",
       "    <tr>\n",
       "      <th>672</th>\n",
       "      <td>0.0</td>\n",
       "      <td>120.0</td>\n",
       "      <td>63.0</td>\n",
       "      <td>225.0</td>\n",
       "      <td>74.0</td>\n",
       "      <td>18.0</td>\n",
       "      <td>30.5</td>\n",
       "      <td>0.285</td>\n",
       "      <td>26.0</td>\n",
       "      <td>NaN</td>\n",
       "      <td>MA</td>\n",
       "      <td>0.0</td>\n",
       "    </tr>\n",
       "    <tr>\n",
       "      <th>992</th>\n",
       "      <td>2.0</td>\n",
       "      <td>NaN</td>\n",
       "      <td>NaN</td>\n",
       "      <td>77.0</td>\n",
       "      <td>70.0</td>\n",
       "      <td>27.0</td>\n",
       "      <td>36.8</td>\n",
       "      <td>0.340</td>\n",
       "      <td>27.0</td>\n",
       "      <td>NaN</td>\n",
       "      <td>MS</td>\n",
       "      <td>0.0</td>\n",
       "    </tr>\n",
       "  </tbody>\n",
       "</table>\n",
       "</div>"
      ],
      "text/plain": [
       "     Pregnancies  BloodChemistryI  BloodChemistryII  BloodChemistryIII  \\\n",
       "418          1.0            103.0              82.0              265.0   \n",
       "588          0.0            113.0               0.0              134.0   \n",
       "648          0.0            117.0               0.0              238.0   \n",
       "672          0.0            120.0              63.0              225.0   \n",
       "992          2.0              NaN               NaN               77.0   \n",
       "\n",
       "     BloodPressure  SkinThickness   BMI  GeneticPredispositionFactor   Age  \\\n",
       "418           80.0           11.0  19.4                        0.491  22.0   \n",
       "588           80.0            NaN  31.0                        0.874  21.0   \n",
       "648            0.0            0.0  33.8                        0.932  44.0   \n",
       "672           74.0           18.0  30.5                        0.285  26.0   \n",
       "992           70.0           27.0  36.8                        0.340  27.0   \n",
       "\n",
       "     AirQualityIndex State  Outcome  \n",
       "418              NaN    CA      0.0  \n",
       "588             21.0    AL      0.0  \n",
       "648              NaN    WA      0.0  \n",
       "672              NaN    MA      0.0  \n",
       "992              NaN    MS      0.0  "
      ]
     },
     "execution_count": 17,
     "metadata": {},
     "output_type": "execute_result"
    }
   ],
   "source": [
    "df[df.isna().any(axis = 1)].head()"
   ]
  },
  {
   "cell_type": "code",
   "execution_count": 18,
   "id": "7e48440b",
   "metadata": {},
   "outputs": [
    {
     "name": "stdout",
     "output_type": "stream",
     "text": [
      "Percent of NaNs in dataframe: 1.44%\n"
     ]
    }
   ],
   "source": [
    "percent_of_nans = round(len(df[df.isna().any(axis = 1)])/len(df)*100, 2)\n",
    "print(f'Percent of NaNs in dataframe: {percent_of_nans}%')"
   ]
  },
  {
   "cell_type": "code",
   "execution_count": 19,
   "id": "043a4cd1",
   "metadata": {},
   "outputs": [],
   "source": [
    "from pandas_profiling import ProfileReport"
   ]
  },
  {
   "cell_type": "code",
   "execution_count": 20,
   "id": "fc89d4ff",
   "metadata": {},
   "outputs": [],
   "source": [
    "# report = ProfileReport(df)\n",
    "# report.to_file('report.thml')"
   ]
  },
  {
   "cell_type": "markdown",
   "id": "4f82f383",
   "metadata": {},
   "source": [
    "This class shows us a lot of usefull statistics."
   ]
  },
  {
   "cell_type": "code",
   "execution_count": 21,
   "id": "3c0aae8c",
   "metadata": {
    "scrolled": false
   },
   "outputs": [],
   "source": [
    "correlation = df.corr()"
   ]
  },
  {
   "cell_type": "markdown",
   "id": "1de666bd",
   "metadata": {},
   "source": [
    "Correlation matrix shows us correlation between features and it helps us to choose them wisely."
   ]
  },
  {
   "cell_type": "code",
   "execution_count": 22,
   "id": "c47380d5",
   "metadata": {},
   "outputs": [
    {
     "data": {
      "text/html": [
       "<div>\n",
       "<style scoped>\n",
       "    .dataframe tbody tr th:only-of-type {\n",
       "        vertical-align: middle;\n",
       "    }\n",
       "\n",
       "    .dataframe tbody tr th {\n",
       "        vertical-align: top;\n",
       "    }\n",
       "\n",
       "    .dataframe thead th {\n",
       "        text-align: right;\n",
       "    }\n",
       "</style>\n",
       "<table border=\"1\" class=\"dataframe\">\n",
       "  <thead>\n",
       "    <tr style=\"text-align: right;\">\n",
       "      <th></th>\n",
       "      <th>Pregnancies</th>\n",
       "      <th>BloodChemistryI</th>\n",
       "      <th>BloodChemistryII</th>\n",
       "      <th>BloodChemistryIII</th>\n",
       "      <th>BloodPressure</th>\n",
       "      <th>SkinThickness</th>\n",
       "      <th>BMI</th>\n",
       "      <th>GeneticPredispositionFactor</th>\n",
       "      <th>Age</th>\n",
       "      <th>AirQualityIndex</th>\n",
       "      <th>Outcome</th>\n",
       "    </tr>\n",
       "  </thead>\n",
       "  <tbody>\n",
       "    <tr>\n",
       "      <th>Pregnancies</th>\n",
       "      <td>1.000000</td>\n",
       "      <td>0.128014</td>\n",
       "      <td>-0.074953</td>\n",
       "      <td>-0.013174</td>\n",
       "      <td>0.140467</td>\n",
       "      <td>-0.081924</td>\n",
       "      <td>0.016333</td>\n",
       "      <td>-0.033799</td>\n",
       "      <td>0.448491</td>\n",
       "      <td>0.045542</td>\n",
       "      <td>0.220976</td>\n",
       "    </tr>\n",
       "    <tr>\n",
       "      <th>BloodChemistryI</th>\n",
       "      <td>0.128014</td>\n",
       "      <td>1.000000</td>\n",
       "      <td>0.333486</td>\n",
       "      <td>-0.011500</td>\n",
       "      <td>0.150733</td>\n",
       "      <td>0.061956</td>\n",
       "      <td>0.225893</td>\n",
       "      <td>0.137721</td>\n",
       "      <td>0.210644</td>\n",
       "      <td>-0.002214</td>\n",
       "      <td>0.469935</td>\n",
       "    </tr>\n",
       "    <tr>\n",
       "      <th>BloodChemistryII</th>\n",
       "      <td>-0.074953</td>\n",
       "      <td>0.333486</td>\n",
       "      <td>1.000000</td>\n",
       "      <td>0.003152</td>\n",
       "      <td>0.089278</td>\n",
       "      <td>0.437560</td>\n",
       "      <td>0.199971</td>\n",
       "      <td>0.183763</td>\n",
       "      <td>-0.036641</td>\n",
       "      <td>-0.044603</td>\n",
       "      <td>0.130205</td>\n",
       "    </tr>\n",
       "    <tr>\n",
       "      <th>BloodChemistryIII</th>\n",
       "      <td>-0.013174</td>\n",
       "      <td>-0.011500</td>\n",
       "      <td>0.003152</td>\n",
       "      <td>1.000000</td>\n",
       "      <td>-0.024258</td>\n",
       "      <td>-0.008531</td>\n",
       "      <td>0.014540</td>\n",
       "      <td>-0.005300</td>\n",
       "      <td>-0.016750</td>\n",
       "      <td>0.007524</td>\n",
       "      <td>-0.014112</td>\n",
       "    </tr>\n",
       "    <tr>\n",
       "      <th>BloodPressure</th>\n",
       "      <td>0.140467</td>\n",
       "      <td>0.150733</td>\n",
       "      <td>0.089278</td>\n",
       "      <td>-0.024258</td>\n",
       "      <td>1.000000</td>\n",
       "      <td>0.208744</td>\n",
       "      <td>0.280651</td>\n",
       "      <td>0.041714</td>\n",
       "      <td>0.199111</td>\n",
       "      <td>0.039677</td>\n",
       "      <td>0.063397</td>\n",
       "    </tr>\n",
       "    <tr>\n",
       "      <th>SkinThickness</th>\n",
       "      <td>-0.081924</td>\n",
       "      <td>0.061956</td>\n",
       "      <td>0.437560</td>\n",
       "      <td>-0.008531</td>\n",
       "      <td>0.208744</td>\n",
       "      <td>1.000000</td>\n",
       "      <td>0.393267</td>\n",
       "      <td>0.184873</td>\n",
       "      <td>-0.099583</td>\n",
       "      <td>0.009786</td>\n",
       "      <td>0.075117</td>\n",
       "    </tr>\n",
       "    <tr>\n",
       "      <th>BMI</th>\n",
       "      <td>0.016333</td>\n",
       "      <td>0.225893</td>\n",
       "      <td>0.199971</td>\n",
       "      <td>0.014540</td>\n",
       "      <td>0.280651</td>\n",
       "      <td>0.393267</td>\n",
       "      <td>1.000000</td>\n",
       "      <td>0.141743</td>\n",
       "      <td>-0.004551</td>\n",
       "      <td>0.005892</td>\n",
       "      <td>0.291945</td>\n",
       "    </tr>\n",
       "    <tr>\n",
       "      <th>GeneticPredispositionFactor</th>\n",
       "      <td>-0.033799</td>\n",
       "      <td>0.137721</td>\n",
       "      <td>0.183763</td>\n",
       "      <td>-0.005300</td>\n",
       "      <td>0.041714</td>\n",
       "      <td>0.184873</td>\n",
       "      <td>0.141743</td>\n",
       "      <td>1.000000</td>\n",
       "      <td>0.017979</td>\n",
       "      <td>0.010768</td>\n",
       "      <td>0.174559</td>\n",
       "    </tr>\n",
       "    <tr>\n",
       "      <th>Age</th>\n",
       "      <td>0.448491</td>\n",
       "      <td>0.210644</td>\n",
       "      <td>-0.036641</td>\n",
       "      <td>-0.016750</td>\n",
       "      <td>0.199111</td>\n",
       "      <td>-0.099583</td>\n",
       "      <td>-0.004551</td>\n",
       "      <td>0.017979</td>\n",
       "      <td>1.000000</td>\n",
       "      <td>-0.013355</td>\n",
       "      <td>0.188144</td>\n",
       "    </tr>\n",
       "    <tr>\n",
       "      <th>AirQualityIndex</th>\n",
       "      <td>0.045542</td>\n",
       "      <td>-0.002214</td>\n",
       "      <td>-0.044603</td>\n",
       "      <td>0.007524</td>\n",
       "      <td>0.039677</td>\n",
       "      <td>0.009786</td>\n",
       "      <td>0.005892</td>\n",
       "      <td>0.010768</td>\n",
       "      <td>-0.013355</td>\n",
       "      <td>1.000000</td>\n",
       "      <td>0.050833</td>\n",
       "    </tr>\n",
       "    <tr>\n",
       "      <th>Outcome</th>\n",
       "      <td>0.220976</td>\n",
       "      <td>0.469935</td>\n",
       "      <td>0.130205</td>\n",
       "      <td>-0.014112</td>\n",
       "      <td>0.063397</td>\n",
       "      <td>0.075117</td>\n",
       "      <td>0.291945</td>\n",
       "      <td>0.174559</td>\n",
       "      <td>0.188144</td>\n",
       "      <td>0.050833</td>\n",
       "      <td>1.000000</td>\n",
       "    </tr>\n",
       "  </tbody>\n",
       "</table>\n",
       "</div>"
      ],
      "text/plain": [
       "                             Pregnancies  BloodChemistryI  BloodChemistryII  \\\n",
       "Pregnancies                     1.000000         0.128014         -0.074953   \n",
       "BloodChemistryI                 0.128014         1.000000          0.333486   \n",
       "BloodChemistryII               -0.074953         0.333486          1.000000   \n",
       "BloodChemistryIII              -0.013174        -0.011500          0.003152   \n",
       "BloodPressure                   0.140467         0.150733          0.089278   \n",
       "SkinThickness                  -0.081924         0.061956          0.437560   \n",
       "BMI                             0.016333         0.225893          0.199971   \n",
       "GeneticPredispositionFactor    -0.033799         0.137721          0.183763   \n",
       "Age                             0.448491         0.210644         -0.036641   \n",
       "AirQualityIndex                 0.045542        -0.002214         -0.044603   \n",
       "Outcome                         0.220976         0.469935          0.130205   \n",
       "\n",
       "                             BloodChemistryIII  BloodPressure  SkinThickness  \\\n",
       "Pregnancies                          -0.013174       0.140467      -0.081924   \n",
       "BloodChemistryI                      -0.011500       0.150733       0.061956   \n",
       "BloodChemistryII                      0.003152       0.089278       0.437560   \n",
       "BloodChemistryIII                     1.000000      -0.024258      -0.008531   \n",
       "BloodPressure                        -0.024258       1.000000       0.208744   \n",
       "SkinThickness                        -0.008531       0.208744       1.000000   \n",
       "BMI                                   0.014540       0.280651       0.393267   \n",
       "GeneticPredispositionFactor          -0.005300       0.041714       0.184873   \n",
       "Age                                  -0.016750       0.199111      -0.099583   \n",
       "AirQualityIndex                       0.007524       0.039677       0.009786   \n",
       "Outcome                              -0.014112       0.063397       0.075117   \n",
       "\n",
       "                                  BMI  GeneticPredispositionFactor       Age  \\\n",
       "Pregnancies                  0.016333                    -0.033799  0.448491   \n",
       "BloodChemistryI              0.225893                     0.137721  0.210644   \n",
       "BloodChemistryII             0.199971                     0.183763 -0.036641   \n",
       "BloodChemistryIII            0.014540                    -0.005300 -0.016750   \n",
       "BloodPressure                0.280651                     0.041714  0.199111   \n",
       "SkinThickness                0.393267                     0.184873 -0.099583   \n",
       "BMI                          1.000000                     0.141743 -0.004551   \n",
       "GeneticPredispositionFactor  0.141743                     1.000000  0.017979   \n",
       "Age                         -0.004551                     0.017979  1.000000   \n",
       "AirQualityIndex              0.005892                     0.010768 -0.013355   \n",
       "Outcome                      0.291945                     0.174559  0.188144   \n",
       "\n",
       "                             AirQualityIndex   Outcome  \n",
       "Pregnancies                         0.045542  0.220976  \n",
       "BloodChemistryI                    -0.002214  0.469935  \n",
       "BloodChemistryII                   -0.044603  0.130205  \n",
       "BloodChemistryIII                   0.007524 -0.014112  \n",
       "BloodPressure                       0.039677  0.063397  \n",
       "SkinThickness                       0.009786  0.075117  \n",
       "BMI                                 0.005892  0.291945  \n",
       "GeneticPredispositionFactor         0.010768  0.174559  \n",
       "Age                                -0.013355  0.188144  \n",
       "AirQualityIndex                     1.000000  0.050833  \n",
       "Outcome                             0.050833  1.000000  "
      ]
     },
     "execution_count": 22,
     "metadata": {},
     "output_type": "execute_result"
    }
   ],
   "source": [
    "correlation"
   ]
  },
  {
   "cell_type": "markdown",
   "id": "25eadc94",
   "metadata": {},
   "source": [
    "Let's see correlation between independent features and Outcome"
   ]
  },
  {
   "cell_type": "code",
   "execution_count": 23,
   "id": "5eb9a6bd",
   "metadata": {},
   "outputs": [
    {
     "data": {
      "text/plain": [
       "Pregnancies                    0.220976\n",
       "BloodChemistryI                0.469935\n",
       "BloodChemistryII               0.130205\n",
       "BloodChemistryIII             -0.014112\n",
       "BloodPressure                  0.063397\n",
       "SkinThickness                  0.075117\n",
       "BMI                            0.291945\n",
       "GeneticPredispositionFactor    0.174559\n",
       "Age                            0.188144\n",
       "AirQualityIndex                0.050833\n",
       "Outcome                        1.000000\n",
       "Name: Outcome, dtype: float64"
      ]
     },
     "execution_count": 23,
     "metadata": {},
     "output_type": "execute_result"
    }
   ],
   "source": [
    "correlation['Outcome']"
   ]
  },
  {
   "cell_type": "markdown",
   "id": "e5528858",
   "metadata": {},
   "source": [
    "And plot the graph"
   ]
  },
  {
   "cell_type": "code",
   "execution_count": 24,
   "id": "0cfc2ce3",
   "metadata": {},
   "outputs": [],
   "source": [
    "mask = np.triu(np.ones_like(correlation, dtype=bool))\n",
    "cmap = sns.diverging_palette(230, 20, as_cmap=True)"
   ]
  },
  {
   "cell_type": "code",
   "execution_count": 25,
   "id": "ee8f05ce",
   "metadata": {},
   "outputs": [
    {
     "data": {
      "text/plain": [
       "<AxesSubplot: >"
      ]
     },
     "execution_count": 25,
     "metadata": {},
     "output_type": "execute_result"
    },
    {
     "data": {
      "image/png": "[encoded data removed]",
      "text/plain": [
       "<Figure size 1100x900 with 2 Axes>"
      ]
     },
     "metadata": {},
     "output_type": "display_data"
    }
   ],
   "source": [
    "f, ax = plt.subplots(figsize=(11, 9))\n",
    "sns.heatmap(correlation, mask=mask, cmap=cmap, vmax=.3, center=0,\n",
    "            square=True, linewidths=.5, cbar_kws={\"shrink\": .5})"
   ]
  },
  {
   "cell_type": "markdown",
   "id": "f1809737",
   "metadata": {},
   "source": [
    "Now we will take a look on each column separately"
   ]
  },
  {
   "cell_type": "code",
   "execution_count": 26,
   "id": "a2c2eb3d",
   "metadata": {},
   "outputs": [],
   "source": [
    "df['Outcome'] = df['Outcome'].astype(int)"
   ]
  },
  {
   "cell_type": "code",
   "execution_count": 27,
   "id": "ab922f80",
   "metadata": {},
   "outputs": [
    {
     "data": {
      "text/html": [
       "<div>\n",
       "<style scoped>\n",
       "    .dataframe tbody tr th:only-of-type {\n",
       "        vertical-align: middle;\n",
       "    }\n",
       "\n",
       "    .dataframe tbody tr th {\n",
       "        vertical-align: top;\n",
       "    }\n",
       "\n",
       "    .dataframe thead th {\n",
       "        text-align: right;\n",
       "    }\n",
       "</style>\n",
       "<table border=\"1\" class=\"dataframe\">\n",
       "  <thead>\n",
       "    <tr style=\"text-align: right;\">\n",
       "      <th></th>\n",
       "      <th>Pregnancies</th>\n",
       "      <th>BloodChemistryI</th>\n",
       "      <th>BloodChemistryII</th>\n",
       "      <th>BloodChemistryIII</th>\n",
       "      <th>BloodPressure</th>\n",
       "      <th>SkinThickness</th>\n",
       "      <th>BMI</th>\n",
       "      <th>GeneticPredispositionFactor</th>\n",
       "      <th>Age</th>\n",
       "      <th>AirQualityIndex</th>\n",
       "      <th>State</th>\n",
       "      <th>Outcome</th>\n",
       "    </tr>\n",
       "  </thead>\n",
       "  <tbody>\n",
       "    <tr>\n",
       "      <th>0</th>\n",
       "      <td>1.0</td>\n",
       "      <td>0.0</td>\n",
       "      <td>23.0</td>\n",
       "      <td>10.0</td>\n",
       "      <td>74.0</td>\n",
       "      <td>20.0</td>\n",
       "      <td>27.7</td>\n",
       "      <td>0.299</td>\n",
       "      <td>21.0</td>\n",
       "      <td>38.0</td>\n",
       "      <td>CA</td>\n",
       "      <td>0</td>\n",
       "    </tr>\n",
       "    <tr>\n",
       "      <th>2</th>\n",
       "      <td>1.0</td>\n",
       "      <td>0.0</td>\n",
       "      <td>0.0</td>\n",
       "      <td>61.0</td>\n",
       "      <td>68.0</td>\n",
       "      <td>35.0</td>\n",
       "      <td>32.0</td>\n",
       "      <td>0.389</td>\n",
       "      <td>22.0</td>\n",
       "      <td>10.0</td>\n",
       "      <td>CA</td>\n",
       "      <td>0</td>\n",
       "    </tr>\n",
       "    <tr>\n",
       "      <th>4</th>\n",
       "      <td>1.0</td>\n",
       "      <td>0.0</td>\n",
       "      <td>0.0</td>\n",
       "      <td>172.0</td>\n",
       "      <td>48.0</td>\n",
       "      <td>20.0</td>\n",
       "      <td>24.7</td>\n",
       "      <td>0.140</td>\n",
       "      <td>22.0</td>\n",
       "      <td>77.0</td>\n",
       "      <td>CA</td>\n",
       "      <td>0</td>\n",
       "    </tr>\n",
       "    <tr>\n",
       "      <th>6</th>\n",
       "      <td>5.0</td>\n",
       "      <td>44.0</td>\n",
       "      <td>0.0</td>\n",
       "      <td>207.0</td>\n",
       "      <td>62.0</td>\n",
       "      <td>0.0</td>\n",
       "      <td>25.0</td>\n",
       "      <td>0.587</td>\n",
       "      <td>36.0</td>\n",
       "      <td>40.0</td>\n",
       "      <td>OR</td>\n",
       "      <td>0</td>\n",
       "    </tr>\n",
       "    <tr>\n",
       "      <th>8</th>\n",
       "      <td>2.0</td>\n",
       "      <td>56.0</td>\n",
       "      <td>45.0</td>\n",
       "      <td>150.0</td>\n",
       "      <td>56.0</td>\n",
       "      <td>28.0</td>\n",
       "      <td>24.2</td>\n",
       "      <td>0.332</td>\n",
       "      <td>22.0</td>\n",
       "      <td>70.0</td>\n",
       "      <td>CT</td>\n",
       "      <td>0</td>\n",
       "    </tr>\n",
       "  </tbody>\n",
       "</table>\n",
       "</div>"
      ],
      "text/plain": [
       "   Pregnancies  BloodChemistryI  BloodChemistryII  BloodChemistryIII  \\\n",
       "0          1.0              0.0              23.0               10.0   \n",
       "2          1.0              0.0               0.0               61.0   \n",
       "4          1.0              0.0               0.0              172.0   \n",
       "6          5.0             44.0               0.0              207.0   \n",
       "8          2.0             56.0              45.0              150.0   \n",
       "\n",
       "   BloodPressure  SkinThickness   BMI  GeneticPredispositionFactor   Age  \\\n",
       "0           74.0           20.0  27.7                        0.299  21.0   \n",
       "2           68.0           35.0  32.0                        0.389  22.0   \n",
       "4           48.0           20.0  24.7                        0.140  22.0   \n",
       "6           62.0            0.0  25.0                        0.587  36.0   \n",
       "8           56.0           28.0  24.2                        0.332  22.0   \n",
       "\n",
       "   AirQualityIndex State  Outcome  \n",
       "0             38.0    CA        0  \n",
       "2             10.0    CA        0  \n",
       "4             77.0    CA        0  \n",
       "6             40.0    OR        0  \n",
       "8             70.0    CT        0  "
      ]
     },
     "execution_count": 27,
     "metadata": {},
     "output_type": "execute_result"
    }
   ],
   "source": [
    "df.head()"
   ]
  },
  {
   "cell_type": "markdown",
   "id": "7f8e3fef",
   "metadata": {},
   "source": [
    "On every graph below 0 means healthy and 1 means sick"
   ]
  },
  {
   "cell_type": "code",
   "execution_count": 28,
   "id": "80ebb7aa",
   "metadata": {},
   "outputs": [
    {
     "data": {
      "text/plain": [
       "<AxesSubplot: xlabel='Outcome', ylabel='count'>"
      ]
     },
     "execution_count": 28,
     "metadata": {},
     "output_type": "execute_result"
    },
    {
     "data": {
      "image/png": "[encoded data removed]",
      "text/plain": [
       "<Figure size 640x480 with 1 Axes>"
      ]
     },
     "metadata": {},
     "output_type": "display_data"
    }
   ],
   "source": [
    "sns.countplot(x = 'Outcome', data = df)"
   ]
  },
  {
   "cell_type": "markdown",
   "id": "e4368014",
   "metadata": {},
   "source": [
    "As we see on graph our dataset is unbalance, we have more healthy than sick people. We have to remember\n",
    "about it when we will split dataframe on train and test dataframes."
   ]
  },
  {
   "cell_type": "code",
   "execution_count": 29,
   "id": "eb5c27b7",
   "metadata": {},
   "outputs": [
    {
     "data": {
      "text/plain": [
       "2489"
      ]
     },
     "execution_count": 29,
     "metadata": {},
     "output_type": "execute_result"
    }
   ],
   "source": [
    "len(df[df['Outcome'] == 0])"
   ]
  },
  {
   "cell_type": "code",
   "execution_count": 30,
   "id": "4135c947",
   "metadata": {},
   "outputs": [
    {
     "data": {
      "text/plain": [
       "1332"
      ]
     },
     "execution_count": 30,
     "metadata": {},
     "output_type": "execute_result"
    }
   ],
   "source": [
    "len(df[df['Outcome'] == 1])"
   ]
  },
  {
   "cell_type": "code",
   "execution_count": 31,
   "id": "0f0b5f99",
   "metadata": {},
   "outputs": [
    {
     "data": {
      "text/plain": [
       "count    3821.000000\n",
       "mean        3.846375\n",
       "std         3.372154\n",
       "min         0.000000\n",
       "25%         1.000000\n",
       "50%         3.000000\n",
       "75%         6.000000\n",
       "max        17.000000\n",
       "Name: Pregnancies, dtype: float64"
      ]
     },
     "execution_count": 31,
     "metadata": {},
     "output_type": "execute_result"
    }
   ],
   "source": [
    "df['Pregnancies'].describe()"
   ]
  },
  {
   "cell_type": "code",
   "execution_count": 32,
   "id": "41c37da1",
   "metadata": {},
   "outputs": [],
   "source": [
    "df['Pregnancies'] = df['Pregnancies'].astype(int)"
   ]
  },
  {
   "cell_type": "code",
   "execution_count": 33,
   "id": "5f71eb9b",
   "metadata": {},
   "outputs": [
    {
     "data": {
      "text/plain": [
       "<seaborn.axisgrid.FacetGrid at 0x2b0c8e26e50>"
      ]
     },
     "execution_count": 33,
     "metadata": {},
     "output_type": "execute_result"
    },
    {
     "data": {
      "image/png": "[encoded data removed]",
      "text/plain": [
       "<Figure size 500x500 with 1 Axes>"
      ]
     },
     "metadata": {},
     "output_type": "display_data"
    }
   ],
   "source": [
    "sns.catplot(x = 'Outcome', y = 'Pregnancies', kind = 'box', data = df)"
   ]
  },
  {
   "cell_type": "markdown",
   "id": "77b641db",
   "metadata": {},
   "source": [
    "On graph we see that if counts of pregnancies is bigger then it is more likely that someone is sick."
   ]
  },
  {
   "cell_type": "code",
   "execution_count": 34,
   "id": "0f5c5eff",
   "metadata": {
    "scrolled": true
   },
   "outputs": [
    {
     "data": {
      "text/plain": [
       "<seaborn.axisgrid.FacetGrid at 0x2b0c901bb20>"
      ]
     },
     "execution_count": 34,
     "metadata": {},
     "output_type": "execute_result"
    },
    {
     "data": {
      "image/png": "[encoded data removed]",
      "text/plain": [
       "<Figure size 500x500 with 1 Axes>"
      ]
     },
     "metadata": {},
     "output_type": "display_data"
    }
   ],
   "source": [
    "sns.catplot(x = 'Outcome', y = 'BloodChemistryI', kind = 'box', data = df)"
   ]
  },
  {
   "cell_type": "markdown",
   "id": "1555ddd9",
   "metadata": {},
   "source": [
    "On this graph we see that with the increment of BloodChemistryI then the likelihood of diseases also increases. We can be almost sure that if someone has BloodChemistryI bigger than 125 is sick."
   ]
  },
  {
   "cell_type": "code",
   "execution_count": 35,
   "id": "6a4f986d",
   "metadata": {
    "scrolled": true
   },
   "outputs": [
    {
     "data": {
      "text/plain": [
       "count    3796.000000\n",
       "mean      120.971022\n",
       "std        31.881611\n",
       "min         0.000000\n",
       "25%        99.000000\n",
       "50%       117.000000\n",
       "75%       141.000000\n",
       "max       199.000000\n",
       "Name: BloodChemistryI, dtype: float64"
      ]
     },
     "execution_count": 35,
     "metadata": {},
     "output_type": "execute_result"
    }
   ],
   "source": [
    "df['BloodChemistryI'].describe()"
   ]
  },
  {
   "cell_type": "code",
   "execution_count": 36,
   "id": "39b73227",
   "metadata": {},
   "outputs": [
    {
     "data": {
      "text/plain": [
       "23"
      ]
     },
     "execution_count": 36,
     "metadata": {},
     "output_type": "execute_result"
    }
   ],
   "source": [
    "len(df[df['BloodChemistryI'] == 0])"
   ]
  },
  {
   "cell_type": "markdown",
   "id": "b5acfaf1",
   "metadata": {},
   "source": [
    "We have a few zeros in that columns, but it can also be a proper value. Because I'm not a doctor now \n",
    "I will assume that this is ok, but if I could I would ask doctor about that zeros values."
   ]
  },
  {
   "cell_type": "code",
   "execution_count": 37,
   "id": "cbfd1773",
   "metadata": {},
   "outputs": [
    {
     "data": {
      "text/plain": [
       "<seaborn.axisgrid.FacetGrid at 0x2b0c9020be0>"
      ]
     },
     "execution_count": 37,
     "metadata": {},
     "output_type": "execute_result"
    },
    {
     "data": {
      "image/png": "[encoded data removed]",
      "text/plain": [
       "<Figure size 500x500 with 1 Axes>"
      ]
     },
     "metadata": {},
     "output_type": "display_data"
    }
   ],
   "source": [
    "sns.catplot(x = 'Outcome', y = 'BloodChemistryII', kind = 'box', data = df)"
   ]
  },
  {
   "cell_type": "code",
   "execution_count": 38,
   "id": "9e888d1c",
   "metadata": {
    "scrolled": true
   },
   "outputs": [
    {
     "data": {
      "text/plain": [
       "1855"
      ]
     },
     "execution_count": 38,
     "metadata": {},
     "output_type": "execute_result"
    }
   ],
   "source": [
    "len(df[df['BloodChemistryII'] == 0])"
   ]
  },
  {
   "cell_type": "code",
   "execution_count": 39,
   "id": "199b9903",
   "metadata": {},
   "outputs": [
    {
     "data": {
      "text/plain": [
       "count    3811.000000\n",
       "mean       79.912097\n",
       "std       115.400912\n",
       "min         0.000000\n",
       "25%         0.000000\n",
       "50%        32.000000\n",
       "75%       127.500000\n",
       "max       846.000000\n",
       "Name: BloodChemistryII, dtype: float64"
      ]
     },
     "execution_count": 39,
     "metadata": {},
     "output_type": "execute_result"
    }
   ],
   "source": [
    "df['BloodChemistryII'].describe()"
   ]
  },
  {
   "cell_type": "code",
   "execution_count": 40,
   "id": "1de47cd9",
   "metadata": {},
   "outputs": [
    {
     "name": "stdout",
     "output_type": "stream",
     "text": [
      "Percent of zeros in BloodChemistryII column: 48.55%\n"
     ]
    }
   ],
   "source": [
    "percent_of_zeros = round(len(df[df['BloodChemistryII'] == 0])/len(df)*100, 2)\n",
    "print(f'Percent of zeros in BloodChemistryII column: {percent_of_zeros}%')"
   ]
  },
  {
   "cell_type": "markdown",
   "id": "646723e2",
   "metadata": {},
   "source": [
    "As we see there is almost 50% of zeros in BloodChemistryII column, as I mentioned earlier it could be proper value and I would gladly discuss it with a doctor, but now I think that the best way will be to not use that column, because there is too many zeros and we cannot rely on them."
   ]
  },
  {
   "cell_type": "code",
   "execution_count": 41,
   "id": "202aeb17",
   "metadata": {
    "scrolled": true
   },
   "outputs": [
    {
     "data": {
      "text/plain": [
       "<seaborn.axisgrid.FacetGrid at 0x2b0c91535b0>"
      ]
     },
     "execution_count": 41,
     "metadata": {},
     "output_type": "execute_result"
    },
    {
     "data": {
      "image/png": "[encoded data removed]",
      "text/plain": [
       "<Figure size 500x500 with 1 Axes>"
      ]
     },
     "metadata": {},
     "output_type": "display_data"
    }
   ],
   "source": [
    "sns.catplot(x = 'Outcome', y = 'BloodChemistryIII', kind = 'box', data = df)"
   ]
  },
  {
   "cell_type": "markdown",
   "id": "23bd6591",
   "metadata": {},
   "source": [
    "As we saw earlier on correlation matrix there is no diffrence in BloodChemistryIII value for sick\n",
    "and healthy people. So for reducing the complexity of our model we can not use that column."
   ]
  },
  {
   "cell_type": "code",
   "execution_count": 42,
   "id": "ffae5308",
   "metadata": {},
   "outputs": [
    {
     "data": {
      "text/plain": [
       "<seaborn.axisgrid.FacetGrid at 0x2b0c9158fd0>"
      ]
     },
     "execution_count": 42,
     "metadata": {},
     "output_type": "execute_result"
    },
    {
     "data": {
      "image/png": "[encoded data removed]",
      "text/plain": [
       "<Figure size 500x500 with 1 Axes>"
      ]
     },
     "metadata": {},
     "output_type": "display_data"
    }
   ],
   "source": [
    "sns.displot(df['BloodChemistryIII'])"
   ]
  },
  {
   "cell_type": "code",
   "execution_count": 43,
   "id": "72d0a31c",
   "metadata": {
    "scrolled": true
   },
   "outputs": [
    {
     "data": {
      "text/plain": [
       "<seaborn.axisgrid.FacetGrid at 0x2b0c90d7310>"
      ]
     },
     "execution_count": 43,
     "metadata": {},
     "output_type": "execute_result"
    },
    {
     "data": {
      "image/png": "[encoded data removed]",
      "text/plain": [
       "<Figure size 500x500 with 1 Axes>"
      ]
     },
     "metadata": {},
     "output_type": "display_data"
    }
   ],
   "source": [
    "sns.catplot(x = 'Outcome', y = 'BloodPressure', kind = 'box', data = df)"
   ]
  },
  {
   "cell_type": "code",
   "execution_count": 44,
   "id": "98bc8a6c",
   "metadata": {},
   "outputs": [
    {
     "data": {
      "text/html": [
       "<div>\n",
       "<style scoped>\n",
       "    .dataframe tbody tr th:only-of-type {\n",
       "        vertical-align: middle;\n",
       "    }\n",
       "\n",
       "    .dataframe tbody tr th {\n",
       "        vertical-align: top;\n",
       "    }\n",
       "\n",
       "    .dataframe thead th {\n",
       "        text-align: right;\n",
       "    }\n",
       "</style>\n",
       "<table border=\"1\" class=\"dataframe\">\n",
       "  <thead>\n",
       "    <tr style=\"text-align: right;\">\n",
       "      <th></th>\n",
       "      <th>Pregnancies</th>\n",
       "      <th>BloodChemistryI</th>\n",
       "      <th>BloodChemistryII</th>\n",
       "      <th>BloodChemistryIII</th>\n",
       "      <th>BloodPressure</th>\n",
       "      <th>SkinThickness</th>\n",
       "      <th>BMI</th>\n",
       "      <th>GeneticPredispositionFactor</th>\n",
       "      <th>Age</th>\n",
       "      <th>AirQualityIndex</th>\n",
       "      <th>State</th>\n",
       "      <th>Outcome</th>\n",
       "    </tr>\n",
       "  </thead>\n",
       "  <tbody>\n",
       "    <tr>\n",
       "      <th>40</th>\n",
       "      <td>0</td>\n",
       "      <td>73.0</td>\n",
       "      <td>0.0</td>\n",
       "      <td>208.0</td>\n",
       "      <td>0.0</td>\n",
       "      <td>0.0</td>\n",
       "      <td>21.1</td>\n",
       "      <td>0.342</td>\n",
       "      <td>25.0</td>\n",
       "      <td>27.0</td>\n",
       "      <td>IA</td>\n",
       "      <td>0</td>\n",
       "    </tr>\n",
       "    <tr>\n",
       "      <th>46</th>\n",
       "      <td>2</td>\n",
       "      <td>74.0</td>\n",
       "      <td>0.0</td>\n",
       "      <td>76.0</td>\n",
       "      <td>0.0</td>\n",
       "      <td>0.0</td>\n",
       "      <td>0.0</td>\n",
       "      <td>0.102</td>\n",
       "      <td>22.0</td>\n",
       "      <td>8.0</td>\n",
       "      <td>CO</td>\n",
       "      <td>0</td>\n",
       "    </tr>\n",
       "    <tr>\n",
       "      <th>80</th>\n",
       "      <td>3</td>\n",
       "      <td>80.0</td>\n",
       "      <td>0.0</td>\n",
       "      <td>311.0</td>\n",
       "      <td>0.0</td>\n",
       "      <td>0.0</td>\n",
       "      <td>0.0</td>\n",
       "      <td>0.174</td>\n",
       "      <td>22.0</td>\n",
       "      <td>2.0</td>\n",
       "      <td>FL</td>\n",
       "      <td>0</td>\n",
       "    </tr>\n",
       "    <tr>\n",
       "      <th>118</th>\n",
       "      <td>2</td>\n",
       "      <td>84.0</td>\n",
       "      <td>0.0</td>\n",
       "      <td>193.0</td>\n",
       "      <td>0.0</td>\n",
       "      <td>0.0</td>\n",
       "      <td>0.0</td>\n",
       "      <td>0.304</td>\n",
       "      <td>21.0</td>\n",
       "      <td>46.0</td>\n",
       "      <td>CA</td>\n",
       "      <td>0</td>\n",
       "    </tr>\n",
       "    <tr>\n",
       "      <th>160</th>\n",
       "      <td>2</td>\n",
       "      <td>87.0</td>\n",
       "      <td>0.0</td>\n",
       "      <td>302.0</td>\n",
       "      <td>0.0</td>\n",
       "      <td>23.0</td>\n",
       "      <td>28.9</td>\n",
       "      <td>0.773</td>\n",
       "      <td>25.0</td>\n",
       "      <td>25.0</td>\n",
       "      <td>LA</td>\n",
       "      <td>0</td>\n",
       "    </tr>\n",
       "    <tr>\n",
       "      <th>...</th>\n",
       "      <td>...</td>\n",
       "      <td>...</td>\n",
       "      <td>...</td>\n",
       "      <td>...</td>\n",
       "      <td>...</td>\n",
       "      <td>...</td>\n",
       "      <td>...</td>\n",
       "      <td>...</td>\n",
       "      <td>...</td>\n",
       "      <td>...</td>\n",
       "      <td>...</td>\n",
       "      <td>...</td>\n",
       "    </tr>\n",
       "    <tr>\n",
       "      <th>7434</th>\n",
       "      <td>0</td>\n",
       "      <td>145.0</td>\n",
       "      <td>0.0</td>\n",
       "      <td>110.0</td>\n",
       "      <td>0.0</td>\n",
       "      <td>0.0</td>\n",
       "      <td>44.2</td>\n",
       "      <td>0.630</td>\n",
       "      <td>31.0</td>\n",
       "      <td>76.0</td>\n",
       "      <td>TX</td>\n",
       "      <td>1</td>\n",
       "    </tr>\n",
       "    <tr>\n",
       "      <th>7444</th>\n",
       "      <td>2</td>\n",
       "      <td>146.0</td>\n",
       "      <td>0.0</td>\n",
       "      <td>271.0</td>\n",
       "      <td>0.0</td>\n",
       "      <td>0.0</td>\n",
       "      <td>27.5</td>\n",
       "      <td>0.240</td>\n",
       "      <td>28.0</td>\n",
       "      <td>38.0</td>\n",
       "      <td>NY</td>\n",
       "      <td>1</td>\n",
       "    </tr>\n",
       "    <tr>\n",
       "      <th>7542</th>\n",
       "      <td>0</td>\n",
       "      <td>167.0</td>\n",
       "      <td>0.0</td>\n",
       "      <td>203.0</td>\n",
       "      <td>0.0</td>\n",
       "      <td>0.0</td>\n",
       "      <td>32.3</td>\n",
       "      <td>0.839</td>\n",
       "      <td>30.0</td>\n",
       "      <td>19.0</td>\n",
       "      <td>PA</td>\n",
       "      <td>1</td>\n",
       "    </tr>\n",
       "    <tr>\n",
       "      <th>7606</th>\n",
       "      <td>1</td>\n",
       "      <td>180.0</td>\n",
       "      <td>0.0</td>\n",
       "      <td>350.0</td>\n",
       "      <td>0.0</td>\n",
       "      <td>0.0</td>\n",
       "      <td>43.3</td>\n",
       "      <td>0.282</td>\n",
       "      <td>41.0</td>\n",
       "      <td>49.0</td>\n",
       "      <td>MO</td>\n",
       "      <td>1</td>\n",
       "    </tr>\n",
       "    <tr>\n",
       "      <th>7622</th>\n",
       "      <td>4</td>\n",
       "      <td>183.0</td>\n",
       "      <td>0.0</td>\n",
       "      <td>58.0</td>\n",
       "      <td>0.0</td>\n",
       "      <td>0.0</td>\n",
       "      <td>28.4</td>\n",
       "      <td>0.212</td>\n",
       "      <td>36.0</td>\n",
       "      <td>59.0</td>\n",
       "      <td>FL</td>\n",
       "      <td>1</td>\n",
       "    </tr>\n",
       "  </tbody>\n",
       "</table>\n",
       "<p>175 rows × 12 columns</p>\n",
       "</div>"
      ],
      "text/plain": [
       "      Pregnancies  BloodChemistryI  BloodChemistryII  BloodChemistryIII  \\\n",
       "40              0             73.0               0.0              208.0   \n",
       "46              2             74.0               0.0               76.0   \n",
       "80              3             80.0               0.0              311.0   \n",
       "118             2             84.0               0.0              193.0   \n",
       "160             2             87.0               0.0              302.0   \n",
       "...           ...              ...               ...                ...   \n",
       "7434            0            145.0               0.0              110.0   \n",
       "7444            2            146.0               0.0              271.0   \n",
       "7542            0            167.0               0.0              203.0   \n",
       "7606            1            180.0               0.0              350.0   \n",
       "7622            4            183.0               0.0               58.0   \n",
       "\n",
       "      BloodPressure  SkinThickness   BMI  GeneticPredispositionFactor   Age  \\\n",
       "40              0.0            0.0  21.1                        0.342  25.0   \n",
       "46              0.0            0.0   0.0                        0.102  22.0   \n",
       "80              0.0            0.0   0.0                        0.174  22.0   \n",
       "118             0.0            0.0   0.0                        0.304  21.0   \n",
       "160             0.0           23.0  28.9                        0.773  25.0   \n",
       "...             ...            ...   ...                          ...   ...   \n",
       "7434            0.0            0.0  44.2                        0.630  31.0   \n",
       "7444            0.0            0.0  27.5                        0.240  28.0   \n",
       "7542            0.0            0.0  32.3                        0.839  30.0   \n",
       "7606            0.0            0.0  43.3                        0.282  41.0   \n",
       "7622            0.0            0.0  28.4                        0.212  36.0   \n",
       "\n",
       "      AirQualityIndex State  Outcome  \n",
       "40               27.0    IA        0  \n",
       "46                8.0    CO        0  \n",
       "80                2.0    FL        0  \n",
       "118              46.0    CA        0  \n",
       "160              25.0    LA        0  \n",
       "...               ...   ...      ...  \n",
       "7434             76.0    TX        1  \n",
       "7444             38.0    NY        1  \n",
       "7542             19.0    PA        1  \n",
       "7606             49.0    MO        1  \n",
       "7622             59.0    FL        1  \n",
       "\n",
       "[175 rows x 12 columns]"
      ]
     },
     "execution_count": 44,
     "metadata": {},
     "output_type": "execute_result"
    }
   ],
   "source": [
    "df[df['BloodPressure'] == 0]"
   ]
  },
  {
   "cell_type": "markdown",
   "id": "01b6ddb4",
   "metadata": {},
   "source": [
    "As we can see on graph and printed dataframe there is BloodPressure is equal 0 and this cannot be right. We have 175 rows which meet this condition where 'BloodPressure' = 0 so it would be better not delete them. I think better way is to change 0 value with median value of BloodPressure column. Median shoud be better than mean because it is less sensitive on outliers."
   ]
  },
  {
   "cell_type": "code",
   "execution_count": 45,
   "id": "e180d421",
   "metadata": {
    "scrolled": true
   },
   "outputs": [
    {
     "data": {
      "text/plain": [
       "<seaborn.axisgrid.FacetGrid at 0x2b0c90b3130>"
      ]
     },
     "execution_count": 45,
     "metadata": {},
     "output_type": "execute_result"
    },
    {
     "data": {
      "image/png": "[encoded data removed]",
      "text/plain": [
       "<Figure size 500x500 with 1 Axes>"
      ]
     },
     "metadata": {},
     "output_type": "display_data"
    }
   ],
   "source": [
    "sns.displot(df['BloodPressure'], kde = True, bins = 30)"
   ]
  },
  {
   "cell_type": "markdown",
   "id": "a129fb3c",
   "metadata": {},
   "source": [
    "On this graph, we see distibiution of BloodPressure and if we don't include zeros we can see that it is\n",
    "similar to normal distribiution."
   ]
  },
  {
   "cell_type": "code",
   "execution_count": 46,
   "id": "3335eb46",
   "metadata": {},
   "outputs": [
    {
     "name": "stdout",
     "output_type": "stream",
     "text": [
      "Percent of zeros in BloodPressure column: 4.58%\n"
     ]
    }
   ],
   "source": [
    "percent_of_zeros = round(len(df[df['BloodPressure'] == 0])/len(df) * 100, 2)\n",
    "print(f'Percent of zeros in BloodPressure column: {percent_of_zeros}%')"
   ]
  },
  {
   "cell_type": "code",
   "execution_count": 47,
   "id": "0359ada3",
   "metadata": {},
   "outputs": [
    {
     "name": "stderr",
     "output_type": "stream",
     "text": [
      "C:\\Users\\otbgo\\AppData\\Local\\Temp\\ipykernel_24336\\876088435.py:1: SettingWithCopyWarning: \n",
      "A value is trying to be set on a copy of a slice from a DataFrame\n",
      "\n",
      "See the caveats in the documentation: https://pandas.pydata.org/pandas-docs/stable/user_guide/indexing.html#returning-a-view-versus-a-copy\n",
      "  df['BloodPressure'][df['BloodPressure'] == 0] = df['BloodPressure'].median()\n"
     ]
    }
   ],
   "source": [
    "df['BloodPressure'][df['BloodPressure'] == 0] = df['BloodPressure'].median()"
   ]
  },
  {
   "cell_type": "code",
   "execution_count": 48,
   "id": "9b32756d",
   "metadata": {},
   "outputs": [
    {
     "data": {
      "text/plain": [
       "<seaborn.axisgrid.FacetGrid at 0x2b0ca616fd0>"
      ]
     },
     "execution_count": 48,
     "metadata": {},
     "output_type": "execute_result"
    },
    {
     "data": {
      "image/png": "[encoded data removed]",
      "text/plain": [
       "<Figure size 500x500 with 1 Axes>"
      ]
     },
     "metadata": {},
     "output_type": "display_data"
    }
   ],
   "source": [
    "sns.catplot(x = 'Outcome', y = 'BloodPressure', kind = 'box', data = df)"
   ]
  },
  {
   "cell_type": "markdown",
   "id": "92d325f1",
   "metadata": {},
   "source": [
    "There is no big correlation between BloodPressure and outcome but we can notice that high blood pressure is not healthy."
   ]
  },
  {
   "cell_type": "code",
   "execution_count": 49,
   "id": "1d506333",
   "metadata": {
    "scrolled": true
   },
   "outputs": [
    {
     "data": {
      "text/plain": [
       "<seaborn.axisgrid.FacetGrid at 0x2b0ca6921f0>"
      ]
     },
     "execution_count": 49,
     "metadata": {},
     "output_type": "execute_result"
    },
    {
     "data": {
      "image/png": "[encoded data removed]",
      "text/plain": [
       "<Figure size 500x500 with 1 Axes>"
      ]
     },
     "metadata": {},
     "output_type": "display_data"
    }
   ],
   "source": [
    "sns.catplot(x = 'Outcome', y = 'SkinThickness', kind = 'box', data = df)"
   ]
  },
  {
   "cell_type": "code",
   "execution_count": 50,
   "id": "671fc74a",
   "metadata": {
    "scrolled": true
   },
   "outputs": [
    {
     "data": {
      "text/plain": [
       "1129"
      ]
     },
     "execution_count": 50,
     "metadata": {},
     "output_type": "execute_result"
    }
   ],
   "source": [
    "len(df[df['SkinThickness'] == 0])"
   ]
  },
  {
   "cell_type": "markdown",
   "id": "ad1991e1",
   "metadata": {},
   "source": [
    "SkinThikness column also has a lot of zeros and it also cannot be right value. So we can do as we did before and change the zero values with median value."
   ]
  },
  {
   "cell_type": "code",
   "execution_count": 51,
   "id": "2068d697",
   "metadata": {},
   "outputs": [
    {
     "name": "stdout",
     "output_type": "stream",
     "text": [
      "Percent of zeros in SkinThickness column: 29.55%\n"
     ]
    }
   ],
   "source": [
    "percent_of_zeros = round(len(df[df['SkinThickness'] == 0])/len(df) * 100, 2)\n",
    "print(f'Percent of zeros in SkinThickness column: {percent_of_zeros}%')"
   ]
  },
  {
   "cell_type": "code",
   "execution_count": 52,
   "id": "987448ff",
   "metadata": {
    "scrolled": true
   },
   "outputs": [
    {
     "name": "stderr",
     "output_type": "stream",
     "text": [
      "C:\\Users\\otbgo\\AppData\\Local\\Temp\\ipykernel_24336\\1685535171.py:1: SettingWithCopyWarning: \n",
      "A value is trying to be set on a copy of a slice from a DataFrame\n",
      "\n",
      "See the caveats in the documentation: https://pandas.pydata.org/pandas-docs/stable/user_guide/indexing.html#returning-a-view-versus-a-copy\n",
      "  df['SkinThickness'][df['SkinThickness'] == 0] = df['SkinThickness'].median()\n"
     ]
    }
   ],
   "source": [
    "df['SkinThickness'][df['SkinThickness'] == 0] = df['SkinThickness'].median()"
   ]
  },
  {
   "cell_type": "code",
   "execution_count": 53,
   "id": "b5537e81",
   "metadata": {},
   "outputs": [
    {
     "data": {
      "text/plain": [
       "<seaborn.axisgrid.FacetGrid at 0x2b0b2bda370>"
      ]
     },
     "execution_count": 53,
     "metadata": {},
     "output_type": "execute_result"
    },
    {
     "data": {
      "image/png": "[encoded data removed]",
      "text/plain": [
       "<Figure size 500x500 with 1 Axes>"
      ]
     },
     "metadata": {},
     "output_type": "display_data"
    }
   ],
   "source": [
    "sns.catplot(x = 'Outcome', y = 'SkinThickness', kind = 'box', data = df)"
   ]
  },
  {
   "cell_type": "markdown",
   "id": "908cf32d",
   "metadata": {},
   "source": [
    "After changing the value we can see any correlations but I'm not sure about correctness of this values."
   ]
  },
  {
   "cell_type": "code",
   "execution_count": 54,
   "id": "6d4b60f9",
   "metadata": {},
   "outputs": [
    {
     "data": {
      "text/plain": [
       "<seaborn.axisgrid.FacetGrid at 0x2b0c90909a0>"
      ]
     },
     "execution_count": 54,
     "metadata": {},
     "output_type": "execute_result"
    },
    {
     "data": {
      "image/png": "[encoded data removed]",
      "text/plain": [
       "<Figure size 500x500 with 1 Axes>"
      ]
     },
     "metadata": {},
     "output_type": "display_data"
    }
   ],
   "source": [
    "sns.catplot(x = 'Outcome', y = 'BMI', kind = 'box', data = df)"
   ]
  },
  {
   "cell_type": "code",
   "execution_count": 55,
   "id": "c6ba61ee",
   "metadata": {},
   "outputs": [
    {
     "data": {
      "text/plain": [
       "count    3821.000000\n",
       "mean       31.985135\n",
       "std         7.886638\n",
       "min         0.000000\n",
       "25%        27.300000\n",
       "50%        32.000000\n",
       "75%        36.600000\n",
       "max        67.100000\n",
       "Name: BMI, dtype: float64"
      ]
     },
     "execution_count": 55,
     "metadata": {},
     "output_type": "execute_result"
    }
   ],
   "source": [
    "df['BMI'].describe()"
   ]
  },
  {
   "cell_type": "raw",
   "id": "a6c20545",
   "metadata": {},
   "source": [
    "BMI column also has a lot of zeros and it also cannot be right value. So let's change again the zero values with median value."
   ]
  },
  {
   "cell_type": "code",
   "execution_count": 56,
   "id": "e3f2d3e2",
   "metadata": {},
   "outputs": [
    {
     "data": {
      "text/plain": [
       "<seaborn.axisgrid.FacetGrid at 0x2b0c8fbf7f0>"
      ]
     },
     "execution_count": 56,
     "metadata": {},
     "output_type": "execute_result"
    },
    {
     "data": {
      "image/png": "[encoded data removed]",
      "text/plain": [
       "<Figure size 500x500 with 1 Axes>"
      ]
     },
     "metadata": {},
     "output_type": "display_data"
    }
   ],
   "source": [
    "sns.displot(df['BMI'], kde = True, bins = 30)"
   ]
  },
  {
   "cell_type": "markdown",
   "id": "bc428c68",
   "metadata": {},
   "source": [
    "On this graph we see distibiution of BMI and if we don't include zeros we can see that it is\n",
    "similar to normal distribiution."
   ]
  },
  {
   "cell_type": "code",
   "execution_count": 57,
   "id": "6392a922",
   "metadata": {
    "scrolled": true
   },
   "outputs": [
    {
     "data": {
      "text/plain": [
       "55"
      ]
     },
     "execution_count": 57,
     "metadata": {},
     "output_type": "execute_result"
    }
   ],
   "source": [
    "len(df[df['BMI'] == 0])"
   ]
  },
  {
   "cell_type": "code",
   "execution_count": 58,
   "id": "d44eb47c",
   "metadata": {},
   "outputs": [
    {
     "name": "stdout",
     "output_type": "stream",
     "text": [
      "Percent of zeros in BMI column: 1.44%\n"
     ]
    }
   ],
   "source": [
    "percent_of_zeros = round(len(df[df['BMI'] == 0])/len(df) * 100, 2)\n",
    "print(f'Percent of zeros in BMI column: {percent_of_zeros}%')"
   ]
  },
  {
   "cell_type": "code",
   "execution_count": 59,
   "id": "5256292d",
   "metadata": {},
   "outputs": [
    {
     "name": "stderr",
     "output_type": "stream",
     "text": [
      "C:\\Users\\otbgo\\AppData\\Local\\Temp\\ipykernel_24336\\211417567.py:1: SettingWithCopyWarning: \n",
      "A value is trying to be set on a copy of a slice from a DataFrame\n",
      "\n",
      "See the caveats in the documentation: https://pandas.pydata.org/pandas-docs/stable/user_guide/indexing.html#returning-a-view-versus-a-copy\n",
      "  df['BMI'][df['BMI'] == 0] = df['BMI'].median()\n"
     ]
    }
   ],
   "source": [
    "df['BMI'][df['BMI'] == 0] = df['BMI'].median()"
   ]
  },
  {
   "cell_type": "code",
   "execution_count": 60,
   "id": "c7d650af",
   "metadata": {},
   "outputs": [
    {
     "data": {
      "text/plain": [
       "40"
      ]
     },
     "execution_count": 60,
     "metadata": {},
     "output_type": "execute_result"
    }
   ],
   "source": [
    "len(df[df['BMI'] > 50])"
   ]
  },
  {
   "cell_type": "code",
   "execution_count": 61,
   "id": "834c09fb",
   "metadata": {},
   "outputs": [
    {
     "name": "stdout",
     "output_type": "stream",
     "text": [
      "Percent of zeros in BMI column: 1.05%\n"
     ]
    }
   ],
   "source": [
    "percent_of_to_big = round(len(df[df['BMI'] > 50])/len(df) * 100, 2)\n",
    "print(f'Percent of zeros in BMI column: {percent_of_to_big}%')"
   ]
  },
  {
   "cell_type": "code",
   "execution_count": 62,
   "id": "b89c2554",
   "metadata": {},
   "outputs": [
    {
     "data": {
      "text/plain": [
       "<seaborn.axisgrid.FacetGrid at 0x2b0cb968c10>"
      ]
     },
     "execution_count": 62,
     "metadata": {},
     "output_type": "execute_result"
    },
    {
     "data": {
      "image/png": "[encoded data removed]",
      "text/plain": [
       "<Figure size 500x500 with 1 Axes>"
      ]
     },
     "metadata": {},
     "output_type": "display_data"
    }
   ],
   "source": [
    "sns.catplot(x = 'Outcome', y = 'GeneticPredispositionFactor', kind = 'box', data = df)"
   ]
  },
  {
   "cell_type": "code",
   "execution_count": 63,
   "id": "ba064470",
   "metadata": {
    "scrolled": true
   },
   "outputs": [
    {
     "data": {
      "text/plain": [
       "count    3821.000000\n",
       "mean        0.472395\n",
       "std         0.331595\n",
       "min         0.078000\n",
       "25%         0.244000\n",
       "50%         0.374000\n",
       "75%         0.627000\n",
       "max         2.420000\n",
       "Name: GeneticPredispositionFactor, dtype: float64"
      ]
     },
     "execution_count": 63,
     "metadata": {},
     "output_type": "execute_result"
    }
   ],
   "source": [
    "df['GeneticPredispositionFactor'].describe()"
   ]
  },
  {
   "cell_type": "markdown",
   "id": "b0db6fbf",
   "metadata": {},
   "source": [
    "On this graph we see the correlation between GeneticPredispositionFactor column and outcome.  The correlation is not that big as we expected. However it's not surprise that if value is bigger than likehood of sicknes is greater."
   ]
  },
  {
   "cell_type": "code",
   "execution_count": 64,
   "id": "3226a80b",
   "metadata": {},
   "outputs": [
    {
     "data": {
      "text/plain": [
       "<seaborn.axisgrid.FacetGrid at 0x2b0cbb472e0>"
      ]
     },
     "execution_count": 64,
     "metadata": {},
     "output_type": "execute_result"
    },
    {
     "data": {
      "image/png": "[encoded data removed]",
      "text/plain": [
       "<Figure size 500x500 with 1 Axes>"
      ]
     },
     "metadata": {},
     "output_type": "display_data"
    }
   ],
   "source": [
    "sns.displot(df['GeneticPredispositionFactor'], kde = True)"
   ]
  },
  {
   "cell_type": "code",
   "execution_count": 65,
   "id": "0afb2c68",
   "metadata": {},
   "outputs": [
    {
     "data": {
      "text/plain": [
       "<seaborn.axisgrid.FacetGrid at 0x2b0cba23e80>"
      ]
     },
     "execution_count": 65,
     "metadata": {},
     "output_type": "execute_result"
    },
    {
     "data": {
      "image/png": "[encoded data removed]",
      "text/plain": [
       "<Figure size 500x500 with 1 Axes>"
      ]
     },
     "metadata": {},
     "output_type": "display_data"
    }
   ],
   "source": [
    "sns.catplot(x = 'Outcome', y = 'Age', kind = 'box', data = df)"
   ]
  },
  {
   "cell_type": "code",
   "execution_count": 66,
   "id": "e7d489e7",
   "metadata": {},
   "outputs": [
    {
     "data": {
      "text/plain": [
       "count    3821.000000\n",
       "mean       33.521329\n",
       "std        13.737760\n",
       "min        21.000000\n",
       "25%        24.000000\n",
       "50%        29.000000\n",
       "75%        41.000000\n",
       "max       230.000000\n",
       "Name: Age, dtype: float64"
      ]
     },
     "execution_count": 66,
     "metadata": {},
     "output_type": "execute_result"
    }
   ],
   "source": [
    "df['Age'].describe()"
   ]
  },
  {
   "cell_type": "markdown",
   "id": "05200e1b",
   "metadata": {},
   "source": [
    "On this graph, we can see really unusual values and due to simple statistics we known that in this\n",
    "dataframe are some people with age 230 years which cannot be real. Let's see how many these values we have."
   ]
  },
  {
   "cell_type": "code",
   "execution_count": 67,
   "id": "c00c578b",
   "metadata": {},
   "outputs": [
    {
     "data": {
      "text/html": [
       "<div>\n",
       "<style scoped>\n",
       "    .dataframe tbody tr th:only-of-type {\n",
       "        vertical-align: middle;\n",
       "    }\n",
       "\n",
       "    .dataframe tbody tr th {\n",
       "        vertical-align: top;\n",
       "    }\n",
       "\n",
       "    .dataframe thead th {\n",
       "        text-align: right;\n",
       "    }\n",
       "</style>\n",
       "<table border=\"1\" class=\"dataframe\">\n",
       "  <thead>\n",
       "    <tr style=\"text-align: right;\">\n",
       "      <th></th>\n",
       "      <th>Pregnancies</th>\n",
       "      <th>BloodChemistryI</th>\n",
       "      <th>BloodChemistryII</th>\n",
       "      <th>BloodChemistryIII</th>\n",
       "      <th>BloodPressure</th>\n",
       "      <th>SkinThickness</th>\n",
       "      <th>BMI</th>\n",
       "      <th>GeneticPredispositionFactor</th>\n",
       "      <th>Age</th>\n",
       "      <th>AirQualityIndex</th>\n",
       "      <th>State</th>\n",
       "      <th>Outcome</th>\n",
       "    </tr>\n",
       "  </thead>\n",
       "  <tbody>\n",
       "    <tr>\n",
       "      <th>318</th>\n",
       "      <td>1</td>\n",
       "      <td>97.0</td>\n",
       "      <td>82.0</td>\n",
       "      <td>262.0</td>\n",
       "      <td>64.0</td>\n",
       "      <td>19.0</td>\n",
       "      <td>18.2</td>\n",
       "      <td>0.299</td>\n",
       "      <td>230.0</td>\n",
       "      <td>58.0</td>\n",
       "      <td>WI</td>\n",
       "      <td>0</td>\n",
       "    </tr>\n",
       "    <tr>\n",
       "      <th>1854</th>\n",
       "      <td>1</td>\n",
       "      <td>97.0</td>\n",
       "      <td>82.0</td>\n",
       "      <td>158.0</td>\n",
       "      <td>64.0</td>\n",
       "      <td>19.0</td>\n",
       "      <td>18.2</td>\n",
       "      <td>0.299</td>\n",
       "      <td>230.0</td>\n",
       "      <td>58.0</td>\n",
       "      <td>WI</td>\n",
       "      <td>0</td>\n",
       "    </tr>\n",
       "    <tr>\n",
       "      <th>3390</th>\n",
       "      <td>1</td>\n",
       "      <td>97.0</td>\n",
       "      <td>82.0</td>\n",
       "      <td>55.0</td>\n",
       "      <td>64.0</td>\n",
       "      <td>19.0</td>\n",
       "      <td>18.2</td>\n",
       "      <td>0.299</td>\n",
       "      <td>230.0</td>\n",
       "      <td>58.0</td>\n",
       "      <td>WI</td>\n",
       "      <td>0</td>\n",
       "    </tr>\n",
       "    <tr>\n",
       "      <th>4926</th>\n",
       "      <td>1</td>\n",
       "      <td>97.0</td>\n",
       "      <td>82.0</td>\n",
       "      <td>205.0</td>\n",
       "      <td>64.0</td>\n",
       "      <td>19.0</td>\n",
       "      <td>18.2</td>\n",
       "      <td>0.299</td>\n",
       "      <td>230.0</td>\n",
       "      <td>58.0</td>\n",
       "      <td>WI</td>\n",
       "      <td>0</td>\n",
       "    </tr>\n",
       "    <tr>\n",
       "      <th>6462</th>\n",
       "      <td>1</td>\n",
       "      <td>97.0</td>\n",
       "      <td>82.0</td>\n",
       "      <td>307.0</td>\n",
       "      <td>64.0</td>\n",
       "      <td>19.0</td>\n",
       "      <td>18.2</td>\n",
       "      <td>0.299</td>\n",
       "      <td>230.0</td>\n",
       "      <td>58.0</td>\n",
       "      <td>WI</td>\n",
       "      <td>0</td>\n",
       "    </tr>\n",
       "  </tbody>\n",
       "</table>\n",
       "</div>"
      ],
      "text/plain": [
       "      Pregnancies  BloodChemistryI  BloodChemistryII  BloodChemistryIII  \\\n",
       "318             1             97.0              82.0              262.0   \n",
       "1854            1             97.0              82.0              158.0   \n",
       "3390            1             97.0              82.0               55.0   \n",
       "4926            1             97.0              82.0              205.0   \n",
       "6462            1             97.0              82.0              307.0   \n",
       "\n",
       "      BloodPressure  SkinThickness   BMI  GeneticPredispositionFactor    Age  \\\n",
       "318            64.0           19.0  18.2                        0.299  230.0   \n",
       "1854           64.0           19.0  18.2                        0.299  230.0   \n",
       "3390           64.0           19.0  18.2                        0.299  230.0   \n",
       "4926           64.0           19.0  18.2                        0.299  230.0   \n",
       "6462           64.0           19.0  18.2                        0.299  230.0   \n",
       "\n",
       "      AirQualityIndex State  Outcome  \n",
       "318              58.0    WI        0  \n",
       "1854             58.0    WI        0  \n",
       "3390             58.0    WI        0  \n",
       "4926             58.0    WI        0  \n",
       "6462             58.0    WI        0  "
      ]
     },
     "execution_count": 67,
     "metadata": {},
     "output_type": "execute_result"
    }
   ],
   "source": [
    "df[df['Age'] > 100]"
   ]
  },
  {
   "cell_type": "markdown",
   "id": "e1c2c26c",
   "metadata": {},
   "source": [
    "So there is only 5 rows with age = 230  for these we can delete them because 5 rows does not effect."
   ]
  },
  {
   "cell_type": "code",
   "execution_count": 68,
   "id": "fdaa5fcd",
   "metadata": {
    "scrolled": true
   },
   "outputs": [],
   "source": [
    "df = df[df['Age'] < 100]"
   ]
  },
  {
   "cell_type": "code",
   "execution_count": 69,
   "id": "f7e9b9b2",
   "metadata": {},
   "outputs": [
    {
     "data": {
      "text/plain": [
       "<seaborn.axisgrid.FacetGrid at 0x2b0ccc82340>"
      ]
     },
     "execution_count": 69,
     "metadata": {},
     "output_type": "execute_result"
    },
    {
     "data": {
      "image/png": "[encoded data removed]",
      "text/plain": [
       "<Figure size 500x500 with 1 Axes>"
      ]
     },
     "metadata": {},
     "output_type": "display_data"
    }
   ],
   "source": [
    "sns.catplot(x = 'Outcome', y = 'Age', kind = 'box', data = df)"
   ]
  },
  {
   "cell_type": "code",
   "execution_count": 70,
   "id": "a24dfe71",
   "metadata": {},
   "outputs": [
    {
     "data": {
      "text/plain": [
       "count    3816.000000\n",
       "mean       33.263889\n",
       "std        11.760623\n",
       "min        21.000000\n",
       "25%        24.000000\n",
       "50%        29.000000\n",
       "75%        41.000000\n",
       "max        81.000000\n",
       "Name: Age, dtype: float64"
      ]
     },
     "execution_count": 70,
     "metadata": {},
     "output_type": "execute_result"
    }
   ],
   "source": [
    "df['Age'].describe()"
   ]
  },
  {
   "cell_type": "markdown",
   "id": "c0f80301",
   "metadata": {},
   "source": [
    "Now we see that it looks quite normal and there is correlation between age and outcome. It's look normal as older people are sick more often."
   ]
  },
  {
   "cell_type": "code",
   "execution_count": 71,
   "id": "b5cbee31",
   "metadata": {},
   "outputs": [
    {
     "data": {
      "text/plain": [
       "<seaborn.axisgrid.FacetGrid at 0x2b0cccff4f0>"
      ]
     },
     "execution_count": 71,
     "metadata": {},
     "output_type": "execute_result"
    },
    {
     "data": {
      "image/png": "[encoded data removed]",
      "text/plain": [
       "<Figure size 500x500 with 1 Axes>"
      ]
     },
     "metadata": {},
     "output_type": "display_data"
    }
   ],
   "source": [
    "sns.catplot(x = 'Outcome', y = 'AirQualityIndex', kind = 'box', data = df)"
   ]
  },
  {
   "cell_type": "code",
   "execution_count": 72,
   "id": "dc3ee6e0",
   "metadata": {},
   "outputs": [
    {
     "data": {
      "text/plain": [
       "<seaborn.axisgrid.FacetGrid at 0x2b0ccc06430>"
      ]
     },
     "execution_count": 72,
     "metadata": {},
     "output_type": "execute_result"
    },
    {
     "data": {
      "image/png": "[encoded data removed]",
      "text/plain": [
       "<Figure size 500x500 with 1 Axes>"
      ]
     },
     "metadata": {},
     "output_type": "display_data"
    }
   ],
   "source": [
    "sns.displot(df['AirQualityIndex'], kde = True)"
   ]
  },
  {
   "cell_type": "markdown",
   "id": "b81c502c",
   "metadata": {},
   "source": [
    "As we saw before in correlation matrix there is no big correlation between AirQualityIndex value and outcome. So this feature can be useless."
   ]
  },
  {
   "cell_type": "code",
   "execution_count": 73,
   "id": "c6b9b826",
   "metadata": {
    "scrolled": true
   },
   "outputs": [
    {
     "data": {
      "text/plain": [
       "array(['CA', 'OR', 'CT', 'UT', 'WV', 'TN', 'VA', 'FL', 'KY', 'WI', 'AR',\n",
       "       'MA', 'PA', 'AZ', 'IA', 'MO', 'CO', 'GA', 'SC', 'OH', 'MD', 'IL',\n",
       "       'OK', 'NY', 'LA', 'NC', 'MN', 'NE', 'NJ', 'MS', 'IN', 'KS', 'DE',\n",
       "       'MT', 'AL', 'MI', 'NV', 'WA', 'SD', 'ME', 'ID', 'HI', 'TX', 'NH',\n",
       "       'RI', 'NM', 'ND', 'VT', 'KU'], dtype=object)"
      ]
     },
     "execution_count": 73,
     "metadata": {},
     "output_type": "execute_result"
    }
   ],
   "source": [
    "df['State'].unique()"
   ]
  },
  {
   "cell_type": "code",
   "execution_count": 74,
   "id": "24c209b9",
   "metadata": {},
   "outputs": [
    {
     "data": {
      "text/plain": [
       "49"
      ]
     },
     "execution_count": 74,
     "metadata": {},
     "output_type": "execute_result"
    }
   ],
   "source": [
    "len(df['State'].unique())"
   ]
  },
  {
   "cell_type": "markdown",
   "id": "cdda0429",
   "metadata": {},
   "source": [
    "State column is the only categorical column in our dataframe and we have 49 of them, so quite a lot. We \n",
    "have to remember about using OneHotEncoder when we will use that column in our model."
   ]
  },
  {
   "cell_type": "code",
   "execution_count": 75,
   "id": "d6d2ff05",
   "metadata": {
    "scrolled": false
   },
   "outputs": [
    {
     "data": {
      "text/plain": [
       "<AxesSubplot: xlabel='State', ylabel='AirQualityIndex'>"
      ]
     },
     "execution_count": 75,
     "metadata": {},
     "output_type": "execute_result"
    },
    {
     "data": {
      "image/png": "[encoded data removed]",
      "text/plain": [
       "<Figure size 2000x1000 with 1 Axes>"
      ]
     },
     "metadata": {},
     "output_type": "display_data"
    }
   ],
   "source": [
    "f, ax = plt.subplots(figsize=(20,10))\n",
    "sns.barplot(x = 'State', y = 'AirQualityIndex', data = df, ax = ax)"
   ]
  },
  {
   "cell_type": "markdown",
   "id": "d7746db1",
   "metadata": {},
   "source": [
    "This graph shows AirQualityIndex for each state"
   ]
  },
  {
   "cell_type": "markdown",
   "id": "bdb7eff1",
   "metadata": {},
   "source": [
    "In this section we start build our model, so firstly import needed classes and functions, split dataframes on independent columns - X and goal column - y"
   ]
  },
  {
   "cell_type": "code",
   "execution_count": 76,
   "id": "c57822b8",
   "metadata": {},
   "outputs": [],
   "source": [
    "from sklearn.model_selection import train_test_split\n",
    "from sklearn.pipeline import make_pipeline, FeatureUnion\n",
    "from sklearn.compose import make_column_transformer\n",
    "from sklearn.preprocessing import OneHotEncoder, StandardScaler\n",
    "from sklearn.impute import SimpleImputer"
   ]
  },
  {
   "cell_type": "code",
   "execution_count": 77,
   "id": "ff16f27a",
   "metadata": {},
   "outputs": [],
   "source": [
    "X = df.drop('Outcome', axis = 1)\n",
    "y = df['Outcome']"
   ]
  },
  {
   "cell_type": "code",
   "execution_count": 78,
   "id": "c906d214",
   "metadata": {},
   "outputs": [
    {
     "data": {
      "text/html": [
       "<div>\n",
       "<style scoped>\n",
       "    .dataframe tbody tr th:only-of-type {\n",
       "        vertical-align: middle;\n",
       "    }\n",
       "\n",
       "    .dataframe tbody tr th {\n",
       "        vertical-align: top;\n",
       "    }\n",
       "\n",
       "    .dataframe thead th {\n",
       "        text-align: right;\n",
       "    }\n",
       "</style>\n",
       "<table border=\"1\" class=\"dataframe\">\n",
       "  <thead>\n",
       "    <tr style=\"text-align: right;\">\n",
       "      <th></th>\n",
       "      <th>Pregnancies</th>\n",
       "      <th>BloodChemistryI</th>\n",
       "      <th>BloodChemistryII</th>\n",
       "      <th>BloodChemistryIII</th>\n",
       "      <th>BloodPressure</th>\n",
       "      <th>SkinThickness</th>\n",
       "      <th>BMI</th>\n",
       "      <th>GeneticPredispositionFactor</th>\n",
       "      <th>Age</th>\n",
       "      <th>AirQualityIndex</th>\n",
       "      <th>State</th>\n",
       "      <th>Outcome</th>\n",
       "    </tr>\n",
       "  </thead>\n",
       "  <tbody>\n",
       "    <tr>\n",
       "      <th>0</th>\n",
       "      <td>1</td>\n",
       "      <td>0.0</td>\n",
       "      <td>23.0</td>\n",
       "      <td>10.0</td>\n",
       "      <td>74.0</td>\n",
       "      <td>20.0</td>\n",
       "      <td>27.7</td>\n",
       "      <td>0.299</td>\n",
       "      <td>21.0</td>\n",
       "      <td>38.0</td>\n",
       "      <td>CA</td>\n",
       "      <td>0</td>\n",
       "    </tr>\n",
       "    <tr>\n",
       "      <th>2</th>\n",
       "      <td>1</td>\n",
       "      <td>0.0</td>\n",
       "      <td>0.0</td>\n",
       "      <td>61.0</td>\n",
       "      <td>68.0</td>\n",
       "      <td>35.0</td>\n",
       "      <td>32.0</td>\n",
       "      <td>0.389</td>\n",
       "      <td>22.0</td>\n",
       "      <td>10.0</td>\n",
       "      <td>CA</td>\n",
       "      <td>0</td>\n",
       "    </tr>\n",
       "    <tr>\n",
       "      <th>4</th>\n",
       "      <td>1</td>\n",
       "      <td>0.0</td>\n",
       "      <td>0.0</td>\n",
       "      <td>172.0</td>\n",
       "      <td>48.0</td>\n",
       "      <td>20.0</td>\n",
       "      <td>24.7</td>\n",
       "      <td>0.140</td>\n",
       "      <td>22.0</td>\n",
       "      <td>77.0</td>\n",
       "      <td>CA</td>\n",
       "      <td>0</td>\n",
       "    </tr>\n",
       "    <tr>\n",
       "      <th>6</th>\n",
       "      <td>5</td>\n",
       "      <td>44.0</td>\n",
       "      <td>0.0</td>\n",
       "      <td>207.0</td>\n",
       "      <td>62.0</td>\n",
       "      <td>23.0</td>\n",
       "      <td>25.0</td>\n",
       "      <td>0.587</td>\n",
       "      <td>36.0</td>\n",
       "      <td>40.0</td>\n",
       "      <td>OR</td>\n",
       "      <td>0</td>\n",
       "    </tr>\n",
       "    <tr>\n",
       "      <th>8</th>\n",
       "      <td>2</td>\n",
       "      <td>56.0</td>\n",
       "      <td>45.0</td>\n",
       "      <td>150.0</td>\n",
       "      <td>56.0</td>\n",
       "      <td>28.0</td>\n",
       "      <td>24.2</td>\n",
       "      <td>0.332</td>\n",
       "      <td>22.0</td>\n",
       "      <td>70.0</td>\n",
       "      <td>CT</td>\n",
       "      <td>0</td>\n",
       "    </tr>\n",
       "  </tbody>\n",
       "</table>\n",
       "</div>"
      ],
      "text/plain": [
       "   Pregnancies  BloodChemistryI  BloodChemistryII  BloodChemistryIII  \\\n",
       "0            1              0.0              23.0               10.0   \n",
       "2            1              0.0               0.0               61.0   \n",
       "4            1              0.0               0.0              172.0   \n",
       "6            5             44.0               0.0              207.0   \n",
       "8            2             56.0              45.0              150.0   \n",
       "\n",
       "   BloodPressure  SkinThickness   BMI  GeneticPredispositionFactor   Age  \\\n",
       "0           74.0           20.0  27.7                        0.299  21.0   \n",
       "2           68.0           35.0  32.0                        0.389  22.0   \n",
       "4           48.0           20.0  24.7                        0.140  22.0   \n",
       "6           62.0           23.0  25.0                        0.587  36.0   \n",
       "8           56.0           28.0  24.2                        0.332  22.0   \n",
       "\n",
       "   AirQualityIndex State  Outcome  \n",
       "0             38.0    CA        0  \n",
       "2             10.0    CA        0  \n",
       "4             77.0    CA        0  \n",
       "6             40.0    OR        0  \n",
       "8             70.0    CT        0  "
      ]
     },
     "execution_count": 78,
     "metadata": {},
     "output_type": "execute_result"
    }
   ],
   "source": [
    "df.head()"
   ]
  },
  {
   "cell_type": "markdown",
   "id": "d63f0f09",
   "metadata": {},
   "source": [
    "Let's do list of columns and divide them in diffrent categories which will make coding easier."
   ]
  },
  {
   "cell_type": "code",
   "execution_count": 79,
   "id": "b5704ca7",
   "metadata": {},
   "outputs": [],
   "source": [
    "numeric_columns = ['Pregnancies', 'BloodChemistryI', 'BloodPressure', 'SkinThickness', 'BMI', \n",
    "                   'GeneticPredispositionFactor', 'Age', 'AirQualityIndex']\n",
    "categorical_columns = ['State']\n",
    "correlated_columns = ['Pregnancies', 'BloodChemistryI', 'BMI','GeneticPredispositionFactor', 'Age']\n",
    "without_SkinThikness_column = ['Pregnancies', 'BloodChemistryI', 'BloodPressure', 'BMI', \n",
    "                         'GeneticPredispositionFactor', 'Age', 'AirQualityIndex']"
   ]
  },
  {
   "cell_type": "markdown",
   "id": "5c8774cf",
   "metadata": {},
   "source": [
    "Now we split our dataframes on train and test set (remember that this dataset is unbalance) it has to\n",
    "be done, because we have to check models, compare them and choose the best model. We want to have the same proportions sick/healthy in train and test set."
   ]
  },
  {
   "cell_type": "code",
   "execution_count": 80,
   "id": "538b664b",
   "metadata": {},
   "outputs": [],
   "source": [
    "X_train, X_test, y_train, y_test = train_test_split(X, y, test_size = 0.2, random_state = 42, stratify = y)"
   ]
  },
  {
   "cell_type": "markdown",
   "id": "5daad5ca",
   "metadata": {},
   "source": [
    "Import functions calculating accuracy, precision and recall"
   ]
  },
  {
   "cell_type": "code",
   "execution_count": 81,
   "id": "a7b8dfab",
   "metadata": {},
   "outputs": [],
   "source": [
    "from sklearn.metrics import accuracy_score, precision_score, recall_score"
   ]
  },
  {
   "cell_type": "markdown",
   "id": "7bf1feac",
   "metadata": {},
   "source": [
    "We can do random array to see what accuracy, precision and recall we can get by guessing outcome.\n",
    "Of course we want our model to be better than this."
   ]
  },
  {
   "cell_type": "code",
   "execution_count": 82,
   "id": "7a8e8beb",
   "metadata": {},
   "outputs": [],
   "source": [
    "random = np.array(np.random.randint(0, 2, len(y_test)))"
   ]
  },
  {
   "cell_type": "markdown",
   "id": "3934e993",
   "metadata": {},
   "source": [
    "Let's import metrics to check the score of our model. We can apply three metrics, but due to our dataframe being imbalanced, the most useful metric will be recall."
   ]
  },
  {
   "cell_type": "code",
   "execution_count": 83,
   "id": "414c07c4",
   "metadata": {},
   "outputs": [],
   "source": [
    "accuracy = accuracy_score(y_test, random)\n",
    "precision = precision_score(y_test, random)\n",
    "recall = recall_score(y_test, random)"
   ]
  },
  {
   "cell_type": "code",
   "execution_count": 84,
   "id": "119eeac8",
   "metadata": {},
   "outputs": [
    {
     "name": "stdout",
     "output_type": "stream",
     "text": [
      "metrics for radnom prediction: accuracy 0.5222513089005235, precision 0.3689839572192513, recall 0.5168539325842697\n"
     ]
    }
   ],
   "source": [
    "print(f'metrics for radnom prediction: accuracy {accuracy}, precision {precision}, recall {recall}')"
   ]
  },
  {
   "cell_type": "markdown",
   "id": "d8baf446",
   "metadata": {},
   "source": [
    "Now we will do pipelines and column transformers to automize and to make work easier. SimpleImputer\n",
    "class will impute median value for every NaN, and StandardScaller will standardize features what \n",
    "helps model, finally OneHotEncoder will allows the computer to understand categorical data. We don't know what transformation will be the best, so we can code a few and then choose the best one."
   ]
  },
  {
   "cell_type": "code",
   "execution_count": 85,
   "id": "36cdfea9",
   "metadata": {},
   "outputs": [],
   "source": [
    "stand_prep = make_pipeline(SimpleImputer(strategy='median'), StandardScaler())\n",
    "cat_prep = make_pipeline(OneHotEncoder(handle_unknown = 'ignore'))"
   ]
  },
  {
   "cell_type": "code",
   "execution_count": 86,
   "id": "2a58c448",
   "metadata": {},
   "outputs": [],
   "source": [
    "ct1 = make_column_transformer((stand_prep, numeric_columns), remainder = 'drop')\n",
    "ct2 = make_column_transformer((stand_prep, numeric_columns), \n",
    "                              (cat_prep, categorical_columns),\n",
    "                              remainder = 'drop')\n",
    "ct3 = make_column_transformer((stand_prep, correlated_columns), remainder = 'drop')\n",
    "ct4 = make_column_transformer((stand_prep, correlated_columns), \n",
    "                              (cat_prep, categorical_columns),\n",
    "                              remainder = 'drop')\n",
    "\n",
    "ct5 = make_column_transformer((stand_prep, without_SkinThikness_column), remainder = 'drop')\n",
    "ct6 = make_column_transformer((stand_prep, without_SkinThikness_column), \n",
    "                              (cat_prep, categorical_columns),\n",
    "                              remainder = 'drop')"
   ]
  },
  {
   "cell_type": "markdown",
   "id": "4d4d1490",
   "metadata": {},
   "source": [
    "Import machine learning algoritms"
   ]
  },
  {
   "cell_type": "code",
   "execution_count": 87,
   "id": "5b026c04",
   "metadata": {},
   "outputs": [],
   "source": [
    "from sklearn.ensemble import RandomForestClassifier\n",
    "from sklearn.svm import SVC"
   ]
  },
  {
   "cell_type": "markdown",
   "id": "0d34742b",
   "metadata": {},
   "source": [
    "And write final pipelines"
   ]
  },
  {
   "cell_type": "code",
   "execution_count": 88,
   "id": "a855ef18",
   "metadata": {},
   "outputs": [],
   "source": [
    "pipelines = {\n",
    "#     'rfc_ct1': make_pipeline(ct1, RandomForestClassifier()),\n",
    "#     'rfc_ct2': make_pipeline(ct2, RandomForestClassifier()),\n",
    "#     'rfc_ct3': make_pipeline(ct3, RandomForestClassifier()),\n",
    "#     'rfc_ct4': make_pipeline(ct4, RandomForestClassifier()),\n",
    "    'rfc_ct5': make_pipeline(ct5, RandomForestClassifier()),\n",
    "#     'rfc_ct6': make_pipeline(ct6, RandomForestClassifier()),\n",
    "#     'svc_ct1': make_pipeline(ct1, SVC()),\n",
    "#     'svc_ct2': make_pipeline(ct2, SVC()),\n",
    "#     'svc_ct3': make_pipeline(ct3, SVC()),\n",
    "#     'svc_ct4': make_pipeline(ct4, SVC()),\n",
    "#     'svc_ct5': make_pipeline(ct5, SVC()),\n",
    "#     'svc_ct6': make_pipeline(ct6, SVC()),\n",
    "}"
   ]
  },
  {
   "cell_type": "markdown",
   "id": "0cd1fc00",
   "metadata": {},
   "source": [
    "RandomizedSearchCV will help with choose the best params for model"
   ]
  },
  {
   "cell_type": "code",
   "execution_count": 89,
   "id": "90301ab5",
   "metadata": {},
   "outputs": [],
   "source": [
    "from sklearn.model_selection import RandomizedSearchCV"
   ]
  },
  {
   "cell_type": "code",
   "execution_count": 90,
   "id": "341e6d83",
   "metadata": {},
   "outputs": [],
   "source": [
    "from scipy.stats import randint, uniform"
   ]
  },
  {
   "cell_type": "code",
   "execution_count": 91,
   "id": "7cbf36ce",
   "metadata": {},
   "outputs": [],
   "source": [
    "params = {\n",
    "    'rfc': {\n",
    "        'randomforestclassifier__n_estimators': [500, 1000, 2000],\n",
    "        'randomforestclassifier__max_depth': [3, 5, 7],\n",
    "        'randomforestclassifier__min_samples_split': [2, 5, 10],\n",
    "        'randomforestclassifier__min_samples_leaf': [1, 2, 4],\n",
    "        'randomforestclassifier__bootstrap': [True, False]\n",
    "     },\n",
    "    'svc': {\n",
    "        'svc__kernel': ['linear', 'rbf', 'poly', 'sigmoid'],\n",
    "        'svc__C': np.logspace(-3, 3, 7),\n",
    "        'svc__gamma': ['scale', 'auto'] + list(np.logspace(-3, 3, 7))\n",
    "    }\n",
    "}"
   ]
  },
  {
   "cell_type": "code",
   "execution_count": 92,
   "id": "2dd97afd",
   "metadata": {},
   "outputs": [],
   "source": [
    "fit_models = {}"
   ]
  },
  {
   "cell_type": "markdown",
   "id": "abf01167",
   "metadata": {},
   "source": [
    "Finally we can train models"
   ]
  },
  {
   "cell_type": "code",
   "execution_count": 93,
   "id": "9f2341a4",
   "metadata": {
    "scrolled": true
   },
   "outputs": [
    {
     "name": "stdout",
     "output_type": "stream",
     "text": [
      "Fitting 5 folds for each of 10 candidates, totalling 50 fits\n"
     ]
    }
   ],
   "source": [
    "for algo, pipeline in pipelines.items():\n",
    "    model = RandomizedSearchCV(pipeline, params[algo[:3]], n_iter=10, cv=5, verbose=2, random_state=42,\n",
    "                                n_jobs=-1)\n",
    "    model.fit(X_train, y_train)\n",
    "    fit_models[algo] = model"
   ]
  },
  {
   "cell_type": "markdown",
   "id": "09dc697f",
   "metadata": {},
   "source": [
    "Print score for each model"
   ]
  },
  {
   "cell_type": "code",
   "execution_count": 94,
   "id": "2741ffd9",
   "metadata": {},
   "outputs": [
    {
     "name": "stdout",
     "output_type": "stream",
     "text": [
      "rfc_ct5 0.9479030144167759\n"
     ]
    }
   ],
   "source": [
    "for algo, model in fit_models.items():\n",
    "    score = model.score(X_train, y_train)\n",
    "    print(algo, score)"
   ]
  },
  {
   "cell_type": "markdown",
   "id": "56458f2d",
   "metadata": {},
   "source": [
    "Calculate accuracy, precision an recall and best params of the model"
   ]
  },
  {
   "cell_type": "code",
   "execution_count": 95,
   "id": "2ff855de",
   "metadata": {},
   "outputs": [
    {
     "name": "stdout",
     "output_type": "stream",
     "text": [
      "Best params for rfc_ct5: {'randomforestclassifier__n_estimators': 1000, 'randomforestclassifier__min_samples_split': 2, 'randomforestclassifier__min_samples_leaf': 1, 'randomforestclassifier__max_depth': 7, 'randomforestclassifier__bootstrap': True}\n",
      "metrics for rfc_ct5 accuracy 0.9293193717277487, precision 0.9531914893617022, recall 0.8389513108614233\n"
     ]
    }
   ],
   "source": [
    "for algo, model in fit_models.items():\n",
    "    y_pred = model.predict(X_test)\n",
    "    accuracy = accuracy_score(y_test, y_pred)\n",
    "    precision = precision_score(y_test, y_pred)\n",
    "    recall = recall_score(y_test, y_pred)\n",
    "    print(f'Best params for {algo}: {model.best_params_}')\n",
    "    print(f'metrics for {algo} accuracy {accuracy}, precision {precision}, recall {recall}')"
   ]
  },
  {
   "cell_type": "markdown",
   "id": "4407707d",
   "metadata": {},
   "source": [
    "Choose model based on scores and make the predictions. I've choosen Random Forest Classifier model with 'ct5' column transformer because it's one of the best and has not that many features for example SkinnThikness what I wasn't sure about the values."
   ]
  },
  {
   "cell_type": "code",
   "execution_count": 96,
   "id": "ce2240cf",
   "metadata": {},
   "outputs": [],
   "source": [
    "best_model = fit_models['rfc_ct5']"
   ]
  },
  {
   "cell_type": "code",
   "execution_count": 97,
   "id": "0f32ce6f",
   "metadata": {},
   "outputs": [],
   "source": [
    "y_pred = best_model.predict(X_test)"
   ]
  },
  {
   "cell_type": "code",
   "execution_count": 98,
   "id": "60de7008",
   "metadata": {},
   "outputs": [],
   "source": [
    "from sklearn.metrics import confusion_matrix"
   ]
  },
  {
   "cell_type": "code",
   "execution_count": 99,
   "id": "1f8838cc",
   "metadata": {
    "scrolled": true
   },
   "outputs": [],
   "source": [
    "cm = confusion_matrix(y_test, y_pred)"
   ]
  },
  {
   "cell_type": "code",
   "execution_count": 100,
   "id": "332767f6",
   "metadata": {},
   "outputs": [
    {
     "data": {
      "text/plain": [
       "<AxesSubplot: >"
      ]
     },
     "execution_count": 100,
     "metadata": {},
     "output_type": "execute_result"
    },
    {
     "data": {
      "image/png": "[encoded data removed]",
      "text/plain": [
       "<Figure size 1000x800 with 2 Axes>"
      ]
     },
     "metadata": {},
     "output_type": "display_data"
    }
   ],
   "source": [
    "f, ax = plt.subplots(figsize = (10,8))\n",
    "sns.heatmap(cm, annot = True, fmt='d')"
   ]
  },
  {
   "cell_type": "markdown",
   "id": "14c5cfff",
   "metadata": {},
   "source": [
    "From confusion matrics we know the choices made by our model: <br>\n",
    "predicted 0 and that was right: 484 times <br>\n",
    "predicted 0 and that was false: 33 times <br>\n",
    "predicted 1 and that was right: 235 times <br>\n",
    "predicted 1 and that was false: 15 times"
   ]
  },
  {
   "cell_type": "markdown",
   "id": "d4ee2333",
   "metadata": {},
   "source": [
    "Now we can check what was the importances of features"
   ]
  },
  {
   "cell_type": "code",
   "execution_count": 101,
   "id": "2a41e589",
   "metadata": {},
   "outputs": [],
   "source": [
    "feature_importances = best_model.best_estimator_.named_steps['randomforestclassifier'].feature_importances_"
   ]
  },
  {
   "cell_type": "code",
   "execution_count": 102,
   "id": "2c114a2c",
   "metadata": {},
   "outputs": [],
   "source": [
    "importance = list(map(lambda x, y: [f'{str(round(x*100, 2))}%', y], feature_importances, without_SkinThikness_column))"
   ]
  },
  {
   "cell_type": "code",
   "execution_count": 103,
   "id": "8c1fd1ef",
   "metadata": {
    "scrolled": true
   },
   "outputs": [
    {
     "data": {
      "text/plain": [
       "[['7.75%', 'Pregnancies'],\n",
       " ['35.4%', 'BloodChemistryI'],\n",
       " ['5.63%', 'BloodPressure'],\n",
       " ['18.73%', 'BMI'],\n",
       " ['10.66%', 'GeneticPredispositionFactor'],\n",
       " ['14.43%', 'Age'],\n",
       " ['7.39%', 'AirQualityIndex']]"
      ]
     },
     "execution_count": 103,
     "metadata": {},
     "output_type": "execute_result"
    }
   ],
   "source": [
    "importance"
   ]
  },
  {
   "cell_type": "markdown",
   "id": "5b8bb78e",
   "metadata": {},
   "source": [
    "And plot feature_importances to see it better"
   ]
  },
  {
   "cell_type": "code",
   "execution_count": 105,
   "id": "587d662a",
   "metadata": {
    "scrolled": true
   },
   "outputs": [
    {
     "data": {
      "image/png": "[encoded data removed]",
      "text/plain": [
       "<Figure size 800x800 with 1 Axes>"
      ]
     },
     "metadata": {},
     "output_type": "display_data"
    }
   ],
   "source": [
    "f, ax = plt.subplots(figsize = (8,8))\n",
    "plt.pie(x = feature_importances*100, labels = without_SkinThikness_column, autopct='%.0f%%')\n",
    "plt.title('Pie chart of features importances')\n",
    "plt.show()"
   ]
  },
  {
   "cell_type": "markdown",
   "id": "10b4c526",
   "metadata": {},
   "source": [
    "So now we can do final conclusion: the most important feature is BloodChemistryI and we saw that 75% of sick patients have 125 or higher. BMI is second important feature, as we can observe, people who have higher BMI than 30 have higher probablity of getting sick. Only 25% of healthy people are older than  37 years old and 50% of sick are older than 36 years. Based on age, we can also predict outcome. As we can  guess if GeneticPredispositionFactor is higher than likelihood of sickness is bigger but again this is no that importance feature as we can assume. We don't have a lot of sick people with more than 5 pregnancies but  50% of them had 4 preganancies or more. There is no big dependence between AirQualityIndex and outcome but if someone live in a place with clean Air doesn't have to worry that much. In the end BloodPresure feature shows with the higher blood pressure there higher chances getting sick."
   ]
  },
  {
   "cell_type": "code",
   "execution_count": 106,
   "id": "b3c529dc",
   "metadata": {},
   "outputs": [],
   "source": [
    "def silnia(n):\n",
    "    silnia = 1\n",
    "    for i in range(1, n+1):\n",
    "          silnia = silnia * i\n",
    "    return silnia"
   ]
  },
  {
   "cell_type": "code",
   "execution_count": 107,
   "id": "8b00a7e4",
   "metadata": {},
   "outputs": [],
   "source": [
    "a = silnia(3)"
   ]
  },
  {
   "cell_type": "code",
   "execution_count": 108,
   "id": "0f62c0c4",
   "metadata": {},
   "outputs": [
    {
     "name": "stdout",
     "output_type": "stream",
     "text": [
      "6\n"
     ]
    }
   ],
   "source": [
    "print(a)"
   ]
  },
  {
   "cell_type": "code",
   "execution_count": null,
   "id": "51d2df37",
   "metadata": {},
   "outputs": [],
   "source": []
  },
  {
   "cell_type": "code",
   "execution_count": null,
   "id": "5e44b7ca",
   "metadata": {},
   "outputs": [],
   "source": []
  }
 ],
 "metadata": {
  "kernelspec": {
   "display_name": "Python 3 (ipykernel)",
   "language": "python",
   "name": "python3"
  },
  "language_info": {
   "codemirror_mode": {
    "name": "ipython",
    "version": 3
   },
   "file_extension": ".py",
   "mimetype": "text/x-python",
   "name": "python",
   "nbconvert_exporter": "python",
   "pygments_lexer": "ipython3",
   "version": "3.9.7"
  }
 },
 "nbformat": 4,
 "nbformat_minor": 5
}
